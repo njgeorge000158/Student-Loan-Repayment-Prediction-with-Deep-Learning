{
 "cells": [
  {
   "cell_type": "code",
   "execution_count": 1,
   "metadata": {
    "scrolled": true
   },
   "outputs": [
    {
     "data": {
      "application/javascript": [
       "(function(root) {\n",
       "  function now() {\n",
       "    return new Date();\n",
       "  }\n",
       "\n",
       "  var force = true;\n",
       "  var py_version = '3.3.4'.replace('rc', '-rc.').replace('.dev', '-dev.');\n",
       "  var reloading = false;\n",
       "  var Bokeh = root.Bokeh;\n",
       "\n",
       "  if (typeof (root._bokeh_timeout) === \"undefined\" || force) {\n",
       "    root._bokeh_timeout = Date.now() + 5000;\n",
       "    root._bokeh_failed_load = false;\n",
       "  }\n",
       "\n",
       "  function run_callbacks() {\n",
       "    try {\n",
       "      root._bokeh_onload_callbacks.forEach(function(callback) {\n",
       "        if (callback != null)\n",
       "          callback();\n",
       "      });\n",
       "    } finally {\n",
       "      delete root._bokeh_onload_callbacks;\n",
       "    }\n",
       "    console.debug(\"Bokeh: all callbacks have finished\");\n",
       "  }\n",
       "\n",
       "  function load_libs(css_urls, js_urls, js_modules, js_exports, callback) {\n",
       "    if (css_urls == null) css_urls = [];\n",
       "    if (js_urls == null) js_urls = [];\n",
       "    if (js_modules == null) js_modules = [];\n",
       "    if (js_exports == null) js_exports = {};\n",
       "\n",
       "    root._bokeh_onload_callbacks.push(callback);\n",
       "\n",
       "    if (root._bokeh_is_loading > 0) {\n",
       "      console.debug(\"Bokeh: BokehJS is being loaded, scheduling callback at\", now());\n",
       "      return null;\n",
       "    }\n",
       "    if (js_urls.length === 0 && js_modules.length === 0 && Object.keys(js_exports).length === 0) {\n",
       "      run_callbacks();\n",
       "      return null;\n",
       "    }\n",
       "    if (!reloading) {\n",
       "      console.debug(\"Bokeh: BokehJS not loaded, scheduling load and callback at\", now());\n",
       "    }\n",
       "\n",
       "    function on_load() {\n",
       "      root._bokeh_is_loading--;\n",
       "      if (root._bokeh_is_loading === 0) {\n",
       "        console.debug(\"Bokeh: all BokehJS libraries/stylesheets loaded\");\n",
       "        run_callbacks()\n",
       "      }\n",
       "    }\n",
       "    window._bokeh_on_load = on_load\n",
       "\n",
       "    function on_error() {\n",
       "      console.error(\"failed to load \" + url);\n",
       "    }\n",
       "\n",
       "    var skip = [];\n",
       "    if (window.requirejs) {\n",
       "      window.requirejs.config({'packages': {}, 'paths': {'jspanel': 'https://cdn.jsdelivr.net/npm/jspanel4@4.12.0/dist/jspanel', 'jspanel-modal': 'https://cdn.jsdelivr.net/npm/jspanel4@4.12.0/dist/extensions/modal/jspanel.modal', 'jspanel-tooltip': 'https://cdn.jsdelivr.net/npm/jspanel4@4.12.0/dist/extensions/tooltip/jspanel.tooltip', 'jspanel-hint': 'https://cdn.jsdelivr.net/npm/jspanel4@4.12.0/dist/extensions/hint/jspanel.hint', 'jspanel-layout': 'https://cdn.jsdelivr.net/npm/jspanel4@4.12.0/dist/extensions/layout/jspanel.layout', 'jspanel-contextmenu': 'https://cdn.jsdelivr.net/npm/jspanel4@4.12.0/dist/extensions/contextmenu/jspanel.contextmenu', 'jspanel-dock': 'https://cdn.jsdelivr.net/npm/jspanel4@4.12.0/dist/extensions/dock/jspanel.dock', 'gridstack': 'https://cdn.jsdelivr.net/npm/gridstack@7.2.3/dist/gridstack-all', 'notyf': 'https://cdn.jsdelivr.net/npm/notyf@3/notyf.min'}, 'shim': {'jspanel': {'exports': 'jsPanel'}, 'gridstack': {'exports': 'GridStack'}}});\n",
       "      require([\"jspanel\"], function(jsPanel) {\n",
       "\twindow.jsPanel = jsPanel\n",
       "\ton_load()\n",
       "      })\n",
       "      require([\"jspanel-modal\"], function() {\n",
       "\ton_load()\n",
       "      })\n",
       "      require([\"jspanel-tooltip\"], function() {\n",
       "\ton_load()\n",
       "      })\n",
       "      require([\"jspanel-hint\"], function() {\n",
       "\ton_load()\n",
       "      })\n",
       "      require([\"jspanel-layout\"], function() {\n",
       "\ton_load()\n",
       "      })\n",
       "      require([\"jspanel-contextmenu\"], function() {\n",
       "\ton_load()\n",
       "      })\n",
       "      require([\"jspanel-dock\"], function() {\n",
       "\ton_load()\n",
       "      })\n",
       "      require([\"gridstack\"], function(GridStack) {\n",
       "\twindow.GridStack = GridStack\n",
       "\ton_load()\n",
       "      })\n",
       "      require([\"notyf\"], function() {\n",
       "\ton_load()\n",
       "      })\n",
       "      root._bokeh_is_loading = css_urls.length + 9;\n",
       "    } else {\n",
       "      root._bokeh_is_loading = css_urls.length + js_urls.length + js_modules.length + Object.keys(js_exports).length;\n",
       "    }\n",
       "\n",
       "    var existing_stylesheets = []\n",
       "    var links = document.getElementsByTagName('link')\n",
       "    for (var i = 0; i < links.length; i++) {\n",
       "      var link = links[i]\n",
       "      if (link.href != null) {\n",
       "\texisting_stylesheets.push(link.href)\n",
       "      }\n",
       "    }\n",
       "    for (var i = 0; i < css_urls.length; i++) {\n",
       "      var url = css_urls[i];\n",
       "      if (existing_stylesheets.indexOf(url) !== -1) {\n",
       "\ton_load()\n",
       "\tcontinue;\n",
       "      }\n",
       "      const element = document.createElement(\"link\");\n",
       "      element.onload = on_load;\n",
       "      element.onerror = on_error;\n",
       "      element.rel = \"stylesheet\";\n",
       "      element.type = \"text/css\";\n",
       "      element.href = url;\n",
       "      console.debug(\"Bokeh: injecting link tag for BokehJS stylesheet: \", url);\n",
       "      document.body.appendChild(element);\n",
       "    }    if (((window['jsPanel'] !== undefined) && (!(window['jsPanel'] instanceof HTMLElement))) || window.requirejs) {\n",
       "      var urls = ['https://cdn.holoviz.org/panel/1.3.8/dist/bundled/floatpanel/jspanel4@4.12.0/dist/jspanel.js', 'https://cdn.holoviz.org/panel/1.3.8/dist/bundled/floatpanel/jspanel4@4.12.0/dist/extensions/modal/jspanel.modal.js', 'https://cdn.holoviz.org/panel/1.3.8/dist/bundled/floatpanel/jspanel4@4.12.0/dist/extensions/tooltip/jspanel.tooltip.js', 'https://cdn.holoviz.org/panel/1.3.8/dist/bundled/floatpanel/jspanel4@4.12.0/dist/extensions/hint/jspanel.hint.js', 'https://cdn.holoviz.org/panel/1.3.8/dist/bundled/floatpanel/jspanel4@4.12.0/dist/extensions/layout/jspanel.layout.js', 'https://cdn.holoviz.org/panel/1.3.8/dist/bundled/floatpanel/jspanel4@4.12.0/dist/extensions/contextmenu/jspanel.contextmenu.js', 'https://cdn.holoviz.org/panel/1.3.8/dist/bundled/floatpanel/jspanel4@4.12.0/dist/extensions/dock/jspanel.dock.js'];\n",
       "      for (var i = 0; i < urls.length; i++) {\n",
       "        skip.push(urls[i])\n",
       "      }\n",
       "    }    if (((window['GridStack'] !== undefined) && (!(window['GridStack'] instanceof HTMLElement))) || window.requirejs) {\n",
       "      var urls = ['https://cdn.holoviz.org/panel/1.3.8/dist/bundled/gridstack/gridstack@7.2.3/dist/gridstack-all.js'];\n",
       "      for (var i = 0; i < urls.length; i++) {\n",
       "        skip.push(urls[i])\n",
       "      }\n",
       "    }    if (((window['Notyf'] !== undefined) && (!(window['Notyf'] instanceof HTMLElement))) || window.requirejs) {\n",
       "      var urls = ['https://cdn.holoviz.org/panel/1.3.8/dist/bundled/notificationarea/notyf@3/notyf.min.js'];\n",
       "      for (var i = 0; i < urls.length; i++) {\n",
       "        skip.push(urls[i])\n",
       "      }\n",
       "    }    var existing_scripts = []\n",
       "    var scripts = document.getElementsByTagName('script')\n",
       "    for (var i = 0; i < scripts.length; i++) {\n",
       "      var script = scripts[i]\n",
       "      if (script.src != null) {\n",
       "\texisting_scripts.push(script.src)\n",
       "      }\n",
       "    }\n",
       "    for (var i = 0; i < js_urls.length; i++) {\n",
       "      var url = js_urls[i];\n",
       "      if (skip.indexOf(url) !== -1 || existing_scripts.indexOf(url) !== -1) {\n",
       "\tif (!window.requirejs) {\n",
       "\t  on_load();\n",
       "\t}\n",
       "\tcontinue;\n",
       "      }\n",
       "      var element = document.createElement('script');\n",
       "      element.onload = on_load;\n",
       "      element.onerror = on_error;\n",
       "      element.async = false;\n",
       "      element.src = url;\n",
       "      console.debug(\"Bokeh: injecting script tag for BokehJS library: \", url);\n",
       "      document.head.appendChild(element);\n",
       "    }\n",
       "    for (var i = 0; i < js_modules.length; i++) {\n",
       "      var url = js_modules[i];\n",
       "      if (skip.indexOf(url) !== -1 || existing_scripts.indexOf(url) !== -1) {\n",
       "\tif (!window.requirejs) {\n",
       "\t  on_load();\n",
       "\t}\n",
       "\tcontinue;\n",
       "      }\n",
       "      var element = document.createElement('script');\n",
       "      element.onload = on_load;\n",
       "      element.onerror = on_error;\n",
       "      element.async = false;\n",
       "      element.src = url;\n",
       "      element.type = \"module\";\n",
       "      console.debug(\"Bokeh: injecting script tag for BokehJS library: \", url);\n",
       "      document.head.appendChild(element);\n",
       "    }\n",
       "    for (const name in js_exports) {\n",
       "      var url = js_exports[name];\n",
       "      if (skip.indexOf(url) >= 0 || root[name] != null) {\n",
       "\tif (!window.requirejs) {\n",
       "\t  on_load();\n",
       "\t}\n",
       "\tcontinue;\n",
       "      }\n",
       "      var element = document.createElement('script');\n",
       "      element.onerror = on_error;\n",
       "      element.async = false;\n",
       "      element.type = \"module\";\n",
       "      console.debug(\"Bokeh: injecting script tag for BokehJS library: \", url);\n",
       "      element.textContent = `\n",
       "      import ${name} from \"${url}\"\n",
       "      window.${name} = ${name}\n",
       "      window._bokeh_on_load()\n",
       "      `\n",
       "      document.head.appendChild(element);\n",
       "    }\n",
       "    if (!js_urls.length && !js_modules.length) {\n",
       "      on_load()\n",
       "    }\n",
       "  };\n",
       "\n",
       "  function inject_raw_css(css) {\n",
       "    const element = document.createElement(\"style\");\n",
       "    element.appendChild(document.createTextNode(css));\n",
       "    document.body.appendChild(element);\n",
       "  }\n",
       "\n",
       "  var js_urls = [\"https://cdn.bokeh.org/bokeh/release/bokeh-3.3.4.min.js\", \"https://cdn.bokeh.org/bokeh/release/bokeh-gl-3.3.4.min.js\", \"https://cdn.bokeh.org/bokeh/release/bokeh-widgets-3.3.4.min.js\", \"https://cdn.bokeh.org/bokeh/release/bokeh-tables-3.3.4.min.js\", \"https://cdn.holoviz.org/panel/1.3.8/dist/panel.min.js\"];\n",
       "  var js_modules = [];\n",
       "  var js_exports = {};\n",
       "  var css_urls = [];\n",
       "  var inline_js = [    function(Bokeh) {\n",
       "      Bokeh.set_log_level(\"info\");\n",
       "    },\n",
       "function(Bokeh) {} // ensure no trailing comma for IE\n",
       "  ];\n",
       "\n",
       "  function run_inline_js() {\n",
       "    if ((root.Bokeh !== undefined) || (force === true)) {\n",
       "      for (var i = 0; i < inline_js.length; i++) {\n",
       "\ttry {\n",
       "          inline_js[i].call(root, root.Bokeh);\n",
       "\t} catch(e) {\n",
       "\t  if (!reloading) {\n",
       "\t    throw e;\n",
       "\t  }\n",
       "\t}\n",
       "      }\n",
       "      // Cache old bokeh versions\n",
       "      if (Bokeh != undefined && !reloading) {\n",
       "\tvar NewBokeh = root.Bokeh;\n",
       "\tif (Bokeh.versions === undefined) {\n",
       "\t  Bokeh.versions = new Map();\n",
       "\t}\n",
       "\tif (NewBokeh.version !== Bokeh.version) {\n",
       "\t  Bokeh.versions.set(NewBokeh.version, NewBokeh)\n",
       "\t}\n",
       "\troot.Bokeh = Bokeh;\n",
       "      }} else if (Date.now() < root._bokeh_timeout) {\n",
       "      setTimeout(run_inline_js, 100);\n",
       "    } else if (!root._bokeh_failed_load) {\n",
       "      console.log(\"Bokeh: BokehJS failed to load within specified timeout.\");\n",
       "      root._bokeh_failed_load = true;\n",
       "    }\n",
       "    root._bokeh_is_initializing = false\n",
       "  }\n",
       "\n",
       "  function load_or_wait() {\n",
       "    // Implement a backoff loop that tries to ensure we do not load multiple\n",
       "    // versions of Bokeh and its dependencies at the same time.\n",
       "    // In recent versions we use the root._bokeh_is_initializing flag\n",
       "    // to determine whether there is an ongoing attempt to initialize\n",
       "    // bokeh, however for backward compatibility we also try to ensure\n",
       "    // that we do not start loading a newer (Panel>=1.0 and Bokeh>3) version\n",
       "    // before older versions are fully initialized.\n",
       "    if (root._bokeh_is_initializing && Date.now() > root._bokeh_timeout) {\n",
       "      root._bokeh_is_initializing = false;\n",
       "      root._bokeh_onload_callbacks = undefined;\n",
       "      console.log(\"Bokeh: BokehJS was loaded multiple times but one version failed to initialize.\");\n",
       "      load_or_wait();\n",
       "    } else if (root._bokeh_is_initializing || (typeof root._bokeh_is_initializing === \"undefined\" && root._bokeh_onload_callbacks !== undefined)) {\n",
       "      setTimeout(load_or_wait, 100);\n",
       "    } else {\n",
       "      root._bokeh_is_initializing = true\n",
       "      root._bokeh_onload_callbacks = []\n",
       "      var bokeh_loaded = Bokeh != null && (Bokeh.version === py_version || (Bokeh.versions !== undefined && Bokeh.versions.has(py_version)));\n",
       "      if (!reloading && !bokeh_loaded) {\n",
       "\troot.Bokeh = undefined;\n",
       "      }\n",
       "      load_libs(css_urls, js_urls, js_modules, js_exports, function() {\n",
       "\tconsole.debug(\"Bokeh: BokehJS plotting callback run at\", now());\n",
       "\trun_inline_js();\n",
       "      });\n",
       "    }\n",
       "  }\n",
       "  // Give older versions of the autoload script a head-start to ensure\n",
       "  // they initialize before we start loading newer version.\n",
       "  setTimeout(load_or_wait, 100)\n",
       "}(window));"
      ],
      "application/vnd.holoviews_load.v0+json": "(function(root) {\n  function now() {\n    return new Date();\n  }\n\n  var force = true;\n  var py_version = '3.3.4'.replace('rc', '-rc.').replace('.dev', '-dev.');\n  var reloading = false;\n  var Bokeh = root.Bokeh;\n\n  if (typeof (root._bokeh_timeout) === \"undefined\" || force) {\n    root._bokeh_timeout = Date.now() + 5000;\n    root._bokeh_failed_load = false;\n  }\n\n  function run_callbacks() {\n    try {\n      root._bokeh_onload_callbacks.forEach(function(callback) {\n        if (callback != null)\n          callback();\n      });\n    } finally {\n      delete root._bokeh_onload_callbacks;\n    }\n    console.debug(\"Bokeh: all callbacks have finished\");\n  }\n\n  function load_libs(css_urls, js_urls, js_modules, js_exports, callback) {\n    if (css_urls == null) css_urls = [];\n    if (js_urls == null) js_urls = [];\n    if (js_modules == null) js_modules = [];\n    if (js_exports == null) js_exports = {};\n\n    root._bokeh_onload_callbacks.push(callback);\n\n    if (root._bokeh_is_loading > 0) {\n      console.debug(\"Bokeh: BokehJS is being loaded, scheduling callback at\", now());\n      return null;\n    }\n    if (js_urls.length === 0 && js_modules.length === 0 && Object.keys(js_exports).length === 0) {\n      run_callbacks();\n      return null;\n    }\n    if (!reloading) {\n      console.debug(\"Bokeh: BokehJS not loaded, scheduling load and callback at\", now());\n    }\n\n    function on_load() {\n      root._bokeh_is_loading--;\n      if (root._bokeh_is_loading === 0) {\n        console.debug(\"Bokeh: all BokehJS libraries/stylesheets loaded\");\n        run_callbacks()\n      }\n    }\n    window._bokeh_on_load = on_load\n\n    function on_error() {\n      console.error(\"failed to load \" + url);\n    }\n\n    var skip = [];\n    if (window.requirejs) {\n      window.requirejs.config({'packages': {}, 'paths': {'jspanel': 'https://cdn.jsdelivr.net/npm/jspanel4@4.12.0/dist/jspanel', 'jspanel-modal': 'https://cdn.jsdelivr.net/npm/jspanel4@4.12.0/dist/extensions/modal/jspanel.modal', 'jspanel-tooltip': 'https://cdn.jsdelivr.net/npm/jspanel4@4.12.0/dist/extensions/tooltip/jspanel.tooltip', 'jspanel-hint': 'https://cdn.jsdelivr.net/npm/jspanel4@4.12.0/dist/extensions/hint/jspanel.hint', 'jspanel-layout': 'https://cdn.jsdelivr.net/npm/jspanel4@4.12.0/dist/extensions/layout/jspanel.layout', 'jspanel-contextmenu': 'https://cdn.jsdelivr.net/npm/jspanel4@4.12.0/dist/extensions/contextmenu/jspanel.contextmenu', 'jspanel-dock': 'https://cdn.jsdelivr.net/npm/jspanel4@4.12.0/dist/extensions/dock/jspanel.dock', 'gridstack': 'https://cdn.jsdelivr.net/npm/gridstack@7.2.3/dist/gridstack-all', 'notyf': 'https://cdn.jsdelivr.net/npm/notyf@3/notyf.min'}, 'shim': {'jspanel': {'exports': 'jsPanel'}, 'gridstack': {'exports': 'GridStack'}}});\n      require([\"jspanel\"], function(jsPanel) {\n\twindow.jsPanel = jsPanel\n\ton_load()\n      })\n      require([\"jspanel-modal\"], function() {\n\ton_load()\n      })\n      require([\"jspanel-tooltip\"], function() {\n\ton_load()\n      })\n      require([\"jspanel-hint\"], function() {\n\ton_load()\n      })\n      require([\"jspanel-layout\"], function() {\n\ton_load()\n      })\n      require([\"jspanel-contextmenu\"], function() {\n\ton_load()\n      })\n      require([\"jspanel-dock\"], function() {\n\ton_load()\n      })\n      require([\"gridstack\"], function(GridStack) {\n\twindow.GridStack = GridStack\n\ton_load()\n      })\n      require([\"notyf\"], function() {\n\ton_load()\n      })\n      root._bokeh_is_loading = css_urls.length + 9;\n    } else {\n      root._bokeh_is_loading = css_urls.length + js_urls.length + js_modules.length + Object.keys(js_exports).length;\n    }\n\n    var existing_stylesheets = []\n    var links = document.getElementsByTagName('link')\n    for (var i = 0; i < links.length; i++) {\n      var link = links[i]\n      if (link.href != null) {\n\texisting_stylesheets.push(link.href)\n      }\n    }\n    for (var i = 0; i < css_urls.length; i++) {\n      var url = css_urls[i];\n      if (existing_stylesheets.indexOf(url) !== -1) {\n\ton_load()\n\tcontinue;\n      }\n      const element = document.createElement(\"link\");\n      element.onload = on_load;\n      element.onerror = on_error;\n      element.rel = \"stylesheet\";\n      element.type = \"text/css\";\n      element.href = url;\n      console.debug(\"Bokeh: injecting link tag for BokehJS stylesheet: \", url);\n      document.body.appendChild(element);\n    }    if (((window['jsPanel'] !== undefined) && (!(window['jsPanel'] instanceof HTMLElement))) || window.requirejs) {\n      var urls = ['https://cdn.holoviz.org/panel/1.3.8/dist/bundled/floatpanel/jspanel4@4.12.0/dist/jspanel.js', 'https://cdn.holoviz.org/panel/1.3.8/dist/bundled/floatpanel/jspanel4@4.12.0/dist/extensions/modal/jspanel.modal.js', 'https://cdn.holoviz.org/panel/1.3.8/dist/bundled/floatpanel/jspanel4@4.12.0/dist/extensions/tooltip/jspanel.tooltip.js', 'https://cdn.holoviz.org/panel/1.3.8/dist/bundled/floatpanel/jspanel4@4.12.0/dist/extensions/hint/jspanel.hint.js', 'https://cdn.holoviz.org/panel/1.3.8/dist/bundled/floatpanel/jspanel4@4.12.0/dist/extensions/layout/jspanel.layout.js', 'https://cdn.holoviz.org/panel/1.3.8/dist/bundled/floatpanel/jspanel4@4.12.0/dist/extensions/contextmenu/jspanel.contextmenu.js', 'https://cdn.holoviz.org/panel/1.3.8/dist/bundled/floatpanel/jspanel4@4.12.0/dist/extensions/dock/jspanel.dock.js'];\n      for (var i = 0; i < urls.length; i++) {\n        skip.push(urls[i])\n      }\n    }    if (((window['GridStack'] !== undefined) && (!(window['GridStack'] instanceof HTMLElement))) || window.requirejs) {\n      var urls = ['https://cdn.holoviz.org/panel/1.3.8/dist/bundled/gridstack/gridstack@7.2.3/dist/gridstack-all.js'];\n      for (var i = 0; i < urls.length; i++) {\n        skip.push(urls[i])\n      }\n    }    if (((window['Notyf'] !== undefined) && (!(window['Notyf'] instanceof HTMLElement))) || window.requirejs) {\n      var urls = ['https://cdn.holoviz.org/panel/1.3.8/dist/bundled/notificationarea/notyf@3/notyf.min.js'];\n      for (var i = 0; i < urls.length; i++) {\n        skip.push(urls[i])\n      }\n    }    var existing_scripts = []\n    var scripts = document.getElementsByTagName('script')\n    for (var i = 0; i < scripts.length; i++) {\n      var script = scripts[i]\n      if (script.src != null) {\n\texisting_scripts.push(script.src)\n      }\n    }\n    for (var i = 0; i < js_urls.length; i++) {\n      var url = js_urls[i];\n      if (skip.indexOf(url) !== -1 || existing_scripts.indexOf(url) !== -1) {\n\tif (!window.requirejs) {\n\t  on_load();\n\t}\n\tcontinue;\n      }\n      var element = document.createElement('script');\n      element.onload = on_load;\n      element.onerror = on_error;\n      element.async = false;\n      element.src = url;\n      console.debug(\"Bokeh: injecting script tag for BokehJS library: \", url);\n      document.head.appendChild(element);\n    }\n    for (var i = 0; i < js_modules.length; i++) {\n      var url = js_modules[i];\n      if (skip.indexOf(url) !== -1 || existing_scripts.indexOf(url) !== -1) {\n\tif (!window.requirejs) {\n\t  on_load();\n\t}\n\tcontinue;\n      }\n      var element = document.createElement('script');\n      element.onload = on_load;\n      element.onerror = on_error;\n      element.async = false;\n      element.src = url;\n      element.type = \"module\";\n      console.debug(\"Bokeh: injecting script tag for BokehJS library: \", url);\n      document.head.appendChild(element);\n    }\n    for (const name in js_exports) {\n      var url = js_exports[name];\n      if (skip.indexOf(url) >= 0 || root[name] != null) {\n\tif (!window.requirejs) {\n\t  on_load();\n\t}\n\tcontinue;\n      }\n      var element = document.createElement('script');\n      element.onerror = on_error;\n      element.async = false;\n      element.type = \"module\";\n      console.debug(\"Bokeh: injecting script tag for BokehJS library: \", url);\n      element.textContent = `\n      import ${name} from \"${url}\"\n      window.${name} = ${name}\n      window._bokeh_on_load()\n      `\n      document.head.appendChild(element);\n    }\n    if (!js_urls.length && !js_modules.length) {\n      on_load()\n    }\n  };\n\n  function inject_raw_css(css) {\n    const element = document.createElement(\"style\");\n    element.appendChild(document.createTextNode(css));\n    document.body.appendChild(element);\n  }\n\n  var js_urls = [\"https://cdn.bokeh.org/bokeh/release/bokeh-3.3.4.min.js\", \"https://cdn.bokeh.org/bokeh/release/bokeh-gl-3.3.4.min.js\", \"https://cdn.bokeh.org/bokeh/release/bokeh-widgets-3.3.4.min.js\", \"https://cdn.bokeh.org/bokeh/release/bokeh-tables-3.3.4.min.js\", \"https://cdn.holoviz.org/panel/1.3.8/dist/panel.min.js\"];\n  var js_modules = [];\n  var js_exports = {};\n  var css_urls = [];\n  var inline_js = [    function(Bokeh) {\n      Bokeh.set_log_level(\"info\");\n    },\nfunction(Bokeh) {} // ensure no trailing comma for IE\n  ];\n\n  function run_inline_js() {\n    if ((root.Bokeh !== undefined) || (force === true)) {\n      for (var i = 0; i < inline_js.length; i++) {\n\ttry {\n          inline_js[i].call(root, root.Bokeh);\n\t} catch(e) {\n\t  if (!reloading) {\n\t    throw e;\n\t  }\n\t}\n      }\n      // Cache old bokeh versions\n      if (Bokeh != undefined && !reloading) {\n\tvar NewBokeh = root.Bokeh;\n\tif (Bokeh.versions === undefined) {\n\t  Bokeh.versions = new Map();\n\t}\n\tif (NewBokeh.version !== Bokeh.version) {\n\t  Bokeh.versions.set(NewBokeh.version, NewBokeh)\n\t}\n\troot.Bokeh = Bokeh;\n      }} else if (Date.now() < root._bokeh_timeout) {\n      setTimeout(run_inline_js, 100);\n    } else if (!root._bokeh_failed_load) {\n      console.log(\"Bokeh: BokehJS failed to load within specified timeout.\");\n      root._bokeh_failed_load = true;\n    }\n    root._bokeh_is_initializing = false\n  }\n\n  function load_or_wait() {\n    // Implement a backoff loop that tries to ensure we do not load multiple\n    // versions of Bokeh and its dependencies at the same time.\n    // In recent versions we use the root._bokeh_is_initializing flag\n    // to determine whether there is an ongoing attempt to initialize\n    // bokeh, however for backward compatibility we also try to ensure\n    // that we do not start loading a newer (Panel>=1.0 and Bokeh>3) version\n    // before older versions are fully initialized.\n    if (root._bokeh_is_initializing && Date.now() > root._bokeh_timeout) {\n      root._bokeh_is_initializing = false;\n      root._bokeh_onload_callbacks = undefined;\n      console.log(\"Bokeh: BokehJS was loaded multiple times but one version failed to initialize.\");\n      load_or_wait();\n    } else if (root._bokeh_is_initializing || (typeof root._bokeh_is_initializing === \"undefined\" && root._bokeh_onload_callbacks !== undefined)) {\n      setTimeout(load_or_wait, 100);\n    } else {\n      root._bokeh_is_initializing = true\n      root._bokeh_onload_callbacks = []\n      var bokeh_loaded = Bokeh != null && (Bokeh.version === py_version || (Bokeh.versions !== undefined && Bokeh.versions.has(py_version)));\n      if (!reloading && !bokeh_loaded) {\n\troot.Bokeh = undefined;\n      }\n      load_libs(css_urls, js_urls, js_modules, js_exports, function() {\n\tconsole.debug(\"Bokeh: BokehJS plotting callback run at\", now());\n\trun_inline_js();\n      });\n    }\n  }\n  // Give older versions of the autoload script a head-start to ensure\n  // they initialize before we start loading newer version.\n  setTimeout(load_or_wait, 100)\n}(window));"
     },
     "metadata": {},
     "output_type": "display_data"
    },
    {
     "data": {
      "application/javascript": [
       "\n",
       "if ((window.PyViz === undefined) || (window.PyViz instanceof HTMLElement)) {\n",
       "  window.PyViz = {comms: {}, comm_status:{}, kernels:{}, receivers: {}, plot_index: []}\n",
       "}\n",
       "\n",
       "\n",
       "    function JupyterCommManager() {\n",
       "    }\n",
       "\n",
       "    JupyterCommManager.prototype.register_target = function(plot_id, comm_id, msg_handler) {\n",
       "      if (window.comm_manager || ((window.Jupyter !== undefined) && (Jupyter.notebook.kernel != null))) {\n",
       "        var comm_manager = window.comm_manager || Jupyter.notebook.kernel.comm_manager;\n",
       "        comm_manager.register_target(comm_id, function(comm) {\n",
       "          comm.on_msg(msg_handler);\n",
       "        });\n",
       "      } else if ((plot_id in window.PyViz.kernels) && (window.PyViz.kernels[plot_id])) {\n",
       "        window.PyViz.kernels[plot_id].registerCommTarget(comm_id, function(comm) {\n",
       "          comm.onMsg = msg_handler;\n",
       "        });\n",
       "      } else if (typeof google != 'undefined' && google.colab.kernel != null) {\n",
       "        google.colab.kernel.comms.registerTarget(comm_id, (comm) => {\n",
       "          var messages = comm.messages[Symbol.asyncIterator]();\n",
       "          function processIteratorResult(result) {\n",
       "            var message = result.value;\n",
       "            console.log(message)\n",
       "            var content = {data: message.data, comm_id};\n",
       "            var buffers = []\n",
       "            for (var buffer of message.buffers || []) {\n",
       "              buffers.push(new DataView(buffer))\n",
       "            }\n",
       "            var metadata = message.metadata || {};\n",
       "            var msg = {content, buffers, metadata}\n",
       "            msg_handler(msg);\n",
       "            return messages.next().then(processIteratorResult);\n",
       "          }\n",
       "          return messages.next().then(processIteratorResult);\n",
       "        })\n",
       "      }\n",
       "    }\n",
       "\n",
       "    JupyterCommManager.prototype.get_client_comm = function(plot_id, comm_id, msg_handler) {\n",
       "      if (comm_id in window.PyViz.comms) {\n",
       "        return window.PyViz.comms[comm_id];\n",
       "      } else if (window.comm_manager || ((window.Jupyter !== undefined) && (Jupyter.notebook.kernel != null))) {\n",
       "        var comm_manager = window.comm_manager || Jupyter.notebook.kernel.comm_manager;\n",
       "        var comm = comm_manager.new_comm(comm_id, {}, {}, {}, comm_id);\n",
       "        if (msg_handler) {\n",
       "          comm.on_msg(msg_handler);\n",
       "        }\n",
       "      } else if ((plot_id in window.PyViz.kernels) && (window.PyViz.kernels[plot_id])) {\n",
       "        var comm = window.PyViz.kernels[plot_id].connectToComm(comm_id);\n",
       "        comm.open();\n",
       "        if (msg_handler) {\n",
       "          comm.onMsg = msg_handler;\n",
       "        }\n",
       "      } else if (typeof google != 'undefined' && google.colab.kernel != null) {\n",
       "        var comm_promise = google.colab.kernel.comms.open(comm_id)\n",
       "        comm_promise.then((comm) => {\n",
       "          window.PyViz.comms[comm_id] = comm;\n",
       "          if (msg_handler) {\n",
       "            var messages = comm.messages[Symbol.asyncIterator]();\n",
       "            function processIteratorResult(result) {\n",
       "              var message = result.value;\n",
       "              var content = {data: message.data};\n",
       "              var metadata = message.metadata || {comm_id};\n",
       "              var msg = {content, metadata}\n",
       "              msg_handler(msg);\n",
       "              return messages.next().then(processIteratorResult);\n",
       "            }\n",
       "            return messages.next().then(processIteratorResult);\n",
       "          }\n",
       "        }) \n",
       "        var sendClosure = (data, metadata, buffers, disposeOnDone) => {\n",
       "          return comm_promise.then((comm) => {\n",
       "            comm.send(data, metadata, buffers, disposeOnDone);\n",
       "          });\n",
       "        };\n",
       "        var comm = {\n",
       "          send: sendClosure\n",
       "        };\n",
       "      }\n",
       "      window.PyViz.comms[comm_id] = comm;\n",
       "      return comm;\n",
       "    }\n",
       "    window.PyViz.comm_manager = new JupyterCommManager();\n",
       "    \n",
       "\n",
       "\n",
       "var JS_MIME_TYPE = 'application/javascript';\n",
       "var HTML_MIME_TYPE = 'text/html';\n",
       "var EXEC_MIME_TYPE = 'application/vnd.holoviews_exec.v0+json';\n",
       "var CLASS_NAME = 'output';\n",
       "\n",
       "/**\n",
       " * Render data to the DOM node\n",
       " */\n",
       "function render(props, node) {\n",
       "  var div = document.createElement(\"div\");\n",
       "  var script = document.createElement(\"script\");\n",
       "  node.appendChild(div);\n",
       "  node.appendChild(script);\n",
       "}\n",
       "\n",
       "/**\n",
       " * Handle when a new output is added\n",
       " */\n",
       "function handle_add_output(event, handle) {\n",
       "  var output_area = handle.output_area;\n",
       "  var output = handle.output;\n",
       "  if ((output.data == undefined) || (!output.data.hasOwnProperty(EXEC_MIME_TYPE))) {\n",
       "    return\n",
       "  }\n",
       "  var id = output.metadata[EXEC_MIME_TYPE][\"id\"];\n",
       "  var toinsert = output_area.element.find(\".\" + CLASS_NAME.split(' ')[0]);\n",
       "  if (id !== undefined) {\n",
       "    var nchildren = toinsert.length;\n",
       "    var html_node = toinsert[nchildren-1].children[0];\n",
       "    html_node.innerHTML = output.data[HTML_MIME_TYPE];\n",
       "    var scripts = [];\n",
       "    var nodelist = html_node.querySelectorAll(\"script\");\n",
       "    for (var i in nodelist) {\n",
       "      if (nodelist.hasOwnProperty(i)) {\n",
       "        scripts.push(nodelist[i])\n",
       "      }\n",
       "    }\n",
       "\n",
       "    scripts.forEach( function (oldScript) {\n",
       "      var newScript = document.createElement(\"script\");\n",
       "      var attrs = [];\n",
       "      var nodemap = oldScript.attributes;\n",
       "      for (var j in nodemap) {\n",
       "        if (nodemap.hasOwnProperty(j)) {\n",
       "          attrs.push(nodemap[j])\n",
       "        }\n",
       "      }\n",
       "      attrs.forEach(function(attr) { newScript.setAttribute(attr.name, attr.value) });\n",
       "      newScript.appendChild(document.createTextNode(oldScript.innerHTML));\n",
       "      oldScript.parentNode.replaceChild(newScript, oldScript);\n",
       "    });\n",
       "    if (JS_MIME_TYPE in output.data) {\n",
       "      toinsert[nchildren-1].children[1].textContent = output.data[JS_MIME_TYPE];\n",
       "    }\n",
       "    output_area._hv_plot_id = id;\n",
       "    if ((window.Bokeh !== undefined) && (id in Bokeh.index)) {\n",
       "      window.PyViz.plot_index[id] = Bokeh.index[id];\n",
       "    } else {\n",
       "      window.PyViz.plot_index[id] = null;\n",
       "    }\n",
       "  } else if (output.metadata[EXEC_MIME_TYPE][\"server_id\"] !== undefined) {\n",
       "    var bk_div = document.createElement(\"div\");\n",
       "    bk_div.innerHTML = output.data[HTML_MIME_TYPE];\n",
       "    var script_attrs = bk_div.children[0].attributes;\n",
       "    for (var i = 0; i < script_attrs.length; i++) {\n",
       "      toinsert[toinsert.length - 1].childNodes[1].setAttribute(script_attrs[i].name, script_attrs[i].value);\n",
       "    }\n",
       "    // store reference to server id on output_area\n",
       "    output_area._bokeh_server_id = output.metadata[EXEC_MIME_TYPE][\"server_id\"];\n",
       "  }\n",
       "}\n",
       "\n",
       "/**\n",
       " * Handle when an output is cleared or removed\n",
       " */\n",
       "function handle_clear_output(event, handle) {\n",
       "  var id = handle.cell.output_area._hv_plot_id;\n",
       "  var server_id = handle.cell.output_area._bokeh_server_id;\n",
       "  if (((id === undefined) || !(id in PyViz.plot_index)) && (server_id !== undefined)) { return; }\n",
       "  var comm = window.PyViz.comm_manager.get_client_comm(\"hv-extension-comm\", \"hv-extension-comm\", function () {});\n",
       "  if (server_id !== null) {\n",
       "    comm.send({event_type: 'server_delete', 'id': server_id});\n",
       "    return;\n",
       "  } else if (comm !== null) {\n",
       "    comm.send({event_type: 'delete', 'id': id});\n",
       "  }\n",
       "  delete PyViz.plot_index[id];\n",
       "  if ((window.Bokeh !== undefined) & (id in window.Bokeh.index)) {\n",
       "    var doc = window.Bokeh.index[id].model.document\n",
       "    doc.clear();\n",
       "    const i = window.Bokeh.documents.indexOf(doc);\n",
       "    if (i > -1) {\n",
       "      window.Bokeh.documents.splice(i, 1);\n",
       "    }\n",
       "  }\n",
       "}\n",
       "\n",
       "/**\n",
       " * Handle kernel restart event\n",
       " */\n",
       "function handle_kernel_cleanup(event, handle) {\n",
       "  delete PyViz.comms[\"hv-extension-comm\"];\n",
       "  window.PyViz.plot_index = {}\n",
       "}\n",
       "\n",
       "/**\n",
       " * Handle update_display_data messages\n",
       " */\n",
       "function handle_update_output(event, handle) {\n",
       "  handle_clear_output(event, {cell: {output_area: handle.output_area}})\n",
       "  handle_add_output(event, handle)\n",
       "}\n",
       "\n",
       "function register_renderer(events, OutputArea) {\n",
       "  function append_mime(data, metadata, element) {\n",
       "    // create a DOM node to render to\n",
       "    var toinsert = this.create_output_subarea(\n",
       "    metadata,\n",
       "    CLASS_NAME,\n",
       "    EXEC_MIME_TYPE\n",
       "    );\n",
       "    this.keyboard_manager.register_events(toinsert);\n",
       "    // Render to node\n",
       "    var props = {data: data, metadata: metadata[EXEC_MIME_TYPE]};\n",
       "    render(props, toinsert[0]);\n",
       "    element.append(toinsert);\n",
       "    return toinsert\n",
       "  }\n",
       "\n",
       "  events.on('output_added.OutputArea', handle_add_output);\n",
       "  events.on('output_updated.OutputArea', handle_update_output);\n",
       "  events.on('clear_output.CodeCell', handle_clear_output);\n",
       "  events.on('delete.Cell', handle_clear_output);\n",
       "  events.on('kernel_ready.Kernel', handle_kernel_cleanup);\n",
       "\n",
       "  OutputArea.prototype.register_mime_type(EXEC_MIME_TYPE, append_mime, {\n",
       "    safe: true,\n",
       "    index: 0\n",
       "  });\n",
       "}\n",
       "\n",
       "if (window.Jupyter !== undefined) {\n",
       "  try {\n",
       "    var events = require('base/js/events');\n",
       "    var OutputArea = require('notebook/js/outputarea').OutputArea;\n",
       "    if (OutputArea.prototype.mime_types().indexOf(EXEC_MIME_TYPE) == -1) {\n",
       "      register_renderer(events, OutputArea);\n",
       "    }\n",
       "  } catch(err) {\n",
       "  }\n",
       "}\n"
      ],
      "application/vnd.holoviews_load.v0+json": "\nif ((window.PyViz === undefined) || (window.PyViz instanceof HTMLElement)) {\n  window.PyViz = {comms: {}, comm_status:{}, kernels:{}, receivers: {}, plot_index: []}\n}\n\n\n    function JupyterCommManager() {\n    }\n\n    JupyterCommManager.prototype.register_target = function(plot_id, comm_id, msg_handler) {\n      if (window.comm_manager || ((window.Jupyter !== undefined) && (Jupyter.notebook.kernel != null))) {\n        var comm_manager = window.comm_manager || Jupyter.notebook.kernel.comm_manager;\n        comm_manager.register_target(comm_id, function(comm) {\n          comm.on_msg(msg_handler);\n        });\n      } else if ((plot_id in window.PyViz.kernels) && (window.PyViz.kernels[plot_id])) {\n        window.PyViz.kernels[plot_id].registerCommTarget(comm_id, function(comm) {\n          comm.onMsg = msg_handler;\n        });\n      } else if (typeof google != 'undefined' && google.colab.kernel != null) {\n        google.colab.kernel.comms.registerTarget(comm_id, (comm) => {\n          var messages = comm.messages[Symbol.asyncIterator]();\n          function processIteratorResult(result) {\n            var message = result.value;\n            console.log(message)\n            var content = {data: message.data, comm_id};\n            var buffers = []\n            for (var buffer of message.buffers || []) {\n              buffers.push(new DataView(buffer))\n            }\n            var metadata = message.metadata || {};\n            var msg = {content, buffers, metadata}\n            msg_handler(msg);\n            return messages.next().then(processIteratorResult);\n          }\n          return messages.next().then(processIteratorResult);\n        })\n      }\n    }\n\n    JupyterCommManager.prototype.get_client_comm = function(plot_id, comm_id, msg_handler) {\n      if (comm_id in window.PyViz.comms) {\n        return window.PyViz.comms[comm_id];\n      } else if (window.comm_manager || ((window.Jupyter !== undefined) && (Jupyter.notebook.kernel != null))) {\n        var comm_manager = window.comm_manager || Jupyter.notebook.kernel.comm_manager;\n        var comm = comm_manager.new_comm(comm_id, {}, {}, {}, comm_id);\n        if (msg_handler) {\n          comm.on_msg(msg_handler);\n        }\n      } else if ((plot_id in window.PyViz.kernels) && (window.PyViz.kernels[plot_id])) {\n        var comm = window.PyViz.kernels[plot_id].connectToComm(comm_id);\n        comm.open();\n        if (msg_handler) {\n          comm.onMsg = msg_handler;\n        }\n      } else if (typeof google != 'undefined' && google.colab.kernel != null) {\n        var comm_promise = google.colab.kernel.comms.open(comm_id)\n        comm_promise.then((comm) => {\n          window.PyViz.comms[comm_id] = comm;\n          if (msg_handler) {\n            var messages = comm.messages[Symbol.asyncIterator]();\n            function processIteratorResult(result) {\n              var message = result.value;\n              var content = {data: message.data};\n              var metadata = message.metadata || {comm_id};\n              var msg = {content, metadata}\n              msg_handler(msg);\n              return messages.next().then(processIteratorResult);\n            }\n            return messages.next().then(processIteratorResult);\n          }\n        }) \n        var sendClosure = (data, metadata, buffers, disposeOnDone) => {\n          return comm_promise.then((comm) => {\n            comm.send(data, metadata, buffers, disposeOnDone);\n          });\n        };\n        var comm = {\n          send: sendClosure\n        };\n      }\n      window.PyViz.comms[comm_id] = comm;\n      return comm;\n    }\n    window.PyViz.comm_manager = new JupyterCommManager();\n    \n\n\nvar JS_MIME_TYPE = 'application/javascript';\nvar HTML_MIME_TYPE = 'text/html';\nvar EXEC_MIME_TYPE = 'application/vnd.holoviews_exec.v0+json';\nvar CLASS_NAME = 'output';\n\n/**\n * Render data to the DOM node\n */\nfunction render(props, node) {\n  var div = document.createElement(\"div\");\n  var script = document.createElement(\"script\");\n  node.appendChild(div);\n  node.appendChild(script);\n}\n\n/**\n * Handle when a new output is added\n */\nfunction handle_add_output(event, handle) {\n  var output_area = handle.output_area;\n  var output = handle.output;\n  if ((output.data == undefined) || (!output.data.hasOwnProperty(EXEC_MIME_TYPE))) {\n    return\n  }\n  var id = output.metadata[EXEC_MIME_TYPE][\"id\"];\n  var toinsert = output_area.element.find(\".\" + CLASS_NAME.split(' ')[0]);\n  if (id !== undefined) {\n    var nchildren = toinsert.length;\n    var html_node = toinsert[nchildren-1].children[0];\n    html_node.innerHTML = output.data[HTML_MIME_TYPE];\n    var scripts = [];\n    var nodelist = html_node.querySelectorAll(\"script\");\n    for (var i in nodelist) {\n      if (nodelist.hasOwnProperty(i)) {\n        scripts.push(nodelist[i])\n      }\n    }\n\n    scripts.forEach( function (oldScript) {\n      var newScript = document.createElement(\"script\");\n      var attrs = [];\n      var nodemap = oldScript.attributes;\n      for (var j in nodemap) {\n        if (nodemap.hasOwnProperty(j)) {\n          attrs.push(nodemap[j])\n        }\n      }\n      attrs.forEach(function(attr) { newScript.setAttribute(attr.name, attr.value) });\n      newScript.appendChild(document.createTextNode(oldScript.innerHTML));\n      oldScript.parentNode.replaceChild(newScript, oldScript);\n    });\n    if (JS_MIME_TYPE in output.data) {\n      toinsert[nchildren-1].children[1].textContent = output.data[JS_MIME_TYPE];\n    }\n    output_area._hv_plot_id = id;\n    if ((window.Bokeh !== undefined) && (id in Bokeh.index)) {\n      window.PyViz.plot_index[id] = Bokeh.index[id];\n    } else {\n      window.PyViz.plot_index[id] = null;\n    }\n  } else if (output.metadata[EXEC_MIME_TYPE][\"server_id\"] !== undefined) {\n    var bk_div = document.createElement(\"div\");\n    bk_div.innerHTML = output.data[HTML_MIME_TYPE];\n    var script_attrs = bk_div.children[0].attributes;\n    for (var i = 0; i < script_attrs.length; i++) {\n      toinsert[toinsert.length - 1].childNodes[1].setAttribute(script_attrs[i].name, script_attrs[i].value);\n    }\n    // store reference to server id on output_area\n    output_area._bokeh_server_id = output.metadata[EXEC_MIME_TYPE][\"server_id\"];\n  }\n}\n\n/**\n * Handle when an output is cleared or removed\n */\nfunction handle_clear_output(event, handle) {\n  var id = handle.cell.output_area._hv_plot_id;\n  var server_id = handle.cell.output_area._bokeh_server_id;\n  if (((id === undefined) || !(id in PyViz.plot_index)) && (server_id !== undefined)) { return; }\n  var comm = window.PyViz.comm_manager.get_client_comm(\"hv-extension-comm\", \"hv-extension-comm\", function () {});\n  if (server_id !== null) {\n    comm.send({event_type: 'server_delete', 'id': server_id});\n    return;\n  } else if (comm !== null) {\n    comm.send({event_type: 'delete', 'id': id});\n  }\n  delete PyViz.plot_index[id];\n  if ((window.Bokeh !== undefined) & (id in window.Bokeh.index)) {\n    var doc = window.Bokeh.index[id].model.document\n    doc.clear();\n    const i = window.Bokeh.documents.indexOf(doc);\n    if (i > -1) {\n      window.Bokeh.documents.splice(i, 1);\n    }\n  }\n}\n\n/**\n * Handle kernel restart event\n */\nfunction handle_kernel_cleanup(event, handle) {\n  delete PyViz.comms[\"hv-extension-comm\"];\n  window.PyViz.plot_index = {}\n}\n\n/**\n * Handle update_display_data messages\n */\nfunction handle_update_output(event, handle) {\n  handle_clear_output(event, {cell: {output_area: handle.output_area}})\n  handle_add_output(event, handle)\n}\n\nfunction register_renderer(events, OutputArea) {\n  function append_mime(data, metadata, element) {\n    // create a DOM node to render to\n    var toinsert = this.create_output_subarea(\n    metadata,\n    CLASS_NAME,\n    EXEC_MIME_TYPE\n    );\n    this.keyboard_manager.register_events(toinsert);\n    // Render to node\n    var props = {data: data, metadata: metadata[EXEC_MIME_TYPE]};\n    render(props, toinsert[0]);\n    element.append(toinsert);\n    return toinsert\n  }\n\n  events.on('output_added.OutputArea', handle_add_output);\n  events.on('output_updated.OutputArea', handle_update_output);\n  events.on('clear_output.CodeCell', handle_clear_output);\n  events.on('delete.Cell', handle_clear_output);\n  events.on('kernel_ready.Kernel', handle_kernel_cleanup);\n\n  OutputArea.prototype.register_mime_type(EXEC_MIME_TYPE, append_mime, {\n    safe: true,\n    index: 0\n  });\n}\n\nif (window.Jupyter !== undefined) {\n  try {\n    var events = require('base/js/events');\n    var OutputArea = require('notebook/js/outputarea').OutputArea;\n    if (OutputArea.prototype.mime_types().indexOf(EXEC_MIME_TYPE) == -1) {\n      register_renderer(events, OutputArea);\n    }\n  } catch(err) {\n  }\n}\n"
     },
     "metadata": {},
     "output_type": "display_data"
    },
    {
     "data": {
      "text/html": [
       "<style>*[data-root-id],\n",
       "*[data-root-id] > * {\n",
       "  box-sizing: border-box;\n",
       "  font-family: var(--jp-ui-font-family);\n",
       "  font-size: var(--jp-ui-font-size1);\n",
       "  color: var(--vscode-editor-foreground, var(--jp-ui-font-color1));\n",
       "}\n",
       "\n",
       "/* Override VSCode background color */\n",
       ".cell-output-ipywidget-background:has(\n",
       "    > .cell-output-ipywidget-background > .lm-Widget > *[data-root-id]\n",
       "  ),\n",
       ".cell-output-ipywidget-background:has(> .lm-Widget > *[data-root-id]) {\n",
       "  background-color: transparent !important;\n",
       "}\n",
       "</style>"
      ]
     },
     "metadata": {},
     "output_type": "display_data"
    },
    {
     "data": {
      "application/vnd.holoviews_exec.v0+json": "",
      "text/html": [
       "<div id='p1002'>\n",
       "  <div id=\"b4db78b8-f20e-4485-afc6-89b12cd36ac0\" data-root-id=\"p1002\" style=\"display: contents;\"></div>\n",
       "</div>\n",
       "<script type=\"application/javascript\">(function(root) {\n",
       "  var docs_json = {\"c6e29cc3-367a-4da2-b724-c3d1679bb2ac\":{\"version\":\"3.3.4\",\"title\":\"Bokeh Application\",\"roots\":[{\"type\":\"object\",\"name\":\"panel.models.browser.BrowserInfo\",\"id\":\"p1002\"},{\"type\":\"object\",\"name\":\"panel.models.comm_manager.CommManager\",\"id\":\"p1003\",\"attributes\":{\"plot_id\":\"p1002\",\"comm_id\":\"bb559fff04ea4e2fbdce2121ea0d7f08\",\"client_comm_id\":\"a72f407cb1994d7496096d64dcf57729\"}}],\"defs\":[{\"type\":\"model\",\"name\":\"ReactiveHTML1\"},{\"type\":\"model\",\"name\":\"FlexBox1\",\"properties\":[{\"name\":\"align_content\",\"kind\":\"Any\",\"default\":\"flex-start\"},{\"name\":\"align_items\",\"kind\":\"Any\",\"default\":\"flex-start\"},{\"name\":\"flex_direction\",\"kind\":\"Any\",\"default\":\"row\"},{\"name\":\"flex_wrap\",\"kind\":\"Any\",\"default\":\"wrap\"},{\"name\":\"justify_content\",\"kind\":\"Any\",\"default\":\"flex-start\"}]},{\"type\":\"model\",\"name\":\"FloatPanel1\",\"properties\":[{\"name\":\"config\",\"kind\":\"Any\",\"default\":{\"type\":\"map\"}},{\"name\":\"contained\",\"kind\":\"Any\",\"default\":true},{\"name\":\"position\",\"kind\":\"Any\",\"default\":\"right-top\"},{\"name\":\"offsetx\",\"kind\":\"Any\",\"default\":null},{\"name\":\"offsety\",\"kind\":\"Any\",\"default\":null},{\"name\":\"theme\",\"kind\":\"Any\",\"default\":\"primary\"},{\"name\":\"status\",\"kind\":\"Any\",\"default\":\"normalized\"}]},{\"type\":\"model\",\"name\":\"GridStack1\",\"properties\":[{\"name\":\"mode\",\"kind\":\"Any\",\"default\":\"warn\"},{\"name\":\"ncols\",\"kind\":\"Any\",\"default\":null},{\"name\":\"nrows\",\"kind\":\"Any\",\"default\":null},{\"name\":\"allow_resize\",\"kind\":\"Any\",\"default\":true},{\"name\":\"allow_drag\",\"kind\":\"Any\",\"default\":true},{\"name\":\"state\",\"kind\":\"Any\",\"default\":[]}]},{\"type\":\"model\",\"name\":\"drag1\",\"properties\":[{\"name\":\"slider_width\",\"kind\":\"Any\",\"default\":5},{\"name\":\"slider_color\",\"kind\":\"Any\",\"default\":\"black\"},{\"name\":\"value\",\"kind\":\"Any\",\"default\":50}]},{\"type\":\"model\",\"name\":\"click1\",\"properties\":[{\"name\":\"terminal_output\",\"kind\":\"Any\",\"default\":\"\"},{\"name\":\"debug_name\",\"kind\":\"Any\",\"default\":\"\"},{\"name\":\"clears\",\"kind\":\"Any\",\"default\":0}]},{\"type\":\"model\",\"name\":\"copy_to_clipboard1\",\"properties\":[{\"name\":\"fill\",\"kind\":\"Any\",\"default\":\"none\"},{\"name\":\"value\",\"kind\":\"Any\",\"default\":null}]},{\"type\":\"model\",\"name\":\"FastWrapper1\",\"properties\":[{\"name\":\"object\",\"kind\":\"Any\",\"default\":null},{\"name\":\"style\",\"kind\":\"Any\",\"default\":null}]},{\"type\":\"model\",\"name\":\"NotificationAreaBase1\",\"properties\":[{\"name\":\"js_events\",\"kind\":\"Any\",\"default\":{\"type\":\"map\"}},{\"name\":\"position\",\"kind\":\"Any\",\"default\":\"bottom-right\"},{\"name\":\"_clear\",\"kind\":\"Any\",\"default\":0}]},{\"type\":\"model\",\"name\":\"NotificationArea1\",\"properties\":[{\"name\":\"js_events\",\"kind\":\"Any\",\"default\":{\"type\":\"map\"}},{\"name\":\"notifications\",\"kind\":\"Any\",\"default\":[]},{\"name\":\"position\",\"kind\":\"Any\",\"default\":\"bottom-right\"},{\"name\":\"_clear\",\"kind\":\"Any\",\"default\":0},{\"name\":\"types\",\"kind\":\"Any\",\"default\":[{\"type\":\"map\",\"entries\":[[\"type\",\"warning\"],[\"background\",\"#ffc107\"],[\"icon\",{\"type\":\"map\",\"entries\":[[\"className\",\"fas fa-exclamation-triangle\"],[\"tagName\",\"i\"],[\"color\",\"white\"]]}]]},{\"type\":\"map\",\"entries\":[[\"type\",\"info\"],[\"background\",\"#007bff\"],[\"icon\",{\"type\":\"map\",\"entries\":[[\"className\",\"fas fa-info-circle\"],[\"tagName\",\"i\"],[\"color\",\"white\"]]}]]}]}]},{\"type\":\"model\",\"name\":\"Notification\",\"properties\":[{\"name\":\"background\",\"kind\":\"Any\",\"default\":null},{\"name\":\"duration\",\"kind\":\"Any\",\"default\":3000},{\"name\":\"icon\",\"kind\":\"Any\",\"default\":null},{\"name\":\"message\",\"kind\":\"Any\",\"default\":\"\"},{\"name\":\"notification_type\",\"kind\":\"Any\",\"default\":null},{\"name\":\"_destroyed\",\"kind\":\"Any\",\"default\":false}]},{\"type\":\"model\",\"name\":\"TemplateActions1\",\"properties\":[{\"name\":\"open_modal\",\"kind\":\"Any\",\"default\":0},{\"name\":\"close_modal\",\"kind\":\"Any\",\"default\":0}]},{\"type\":\"model\",\"name\":\"BootstrapTemplateActions1\",\"properties\":[{\"name\":\"open_modal\",\"kind\":\"Any\",\"default\":0},{\"name\":\"close_modal\",\"kind\":\"Any\",\"default\":0}]},{\"type\":\"model\",\"name\":\"MaterialTemplateActions1\",\"properties\":[{\"name\":\"open_modal\",\"kind\":\"Any\",\"default\":0},{\"name\":\"close_modal\",\"kind\":\"Any\",\"default\":0}]}]}};\n",
       "  var render_items = [{\"docid\":\"c6e29cc3-367a-4da2-b724-c3d1679bb2ac\",\"roots\":{\"p1002\":\"b4db78b8-f20e-4485-afc6-89b12cd36ac0\"},\"root_ids\":[\"p1002\"]}];\n",
       "  var docs = Object.values(docs_json)\n",
       "  if (!docs) {\n",
       "    return\n",
       "  }\n",
       "  const py_version = docs[0].version.replace('rc', '-rc.').replace('.dev', '-dev.')\n",
       "  function embed_document(root) {\n",
       "    var Bokeh = get_bokeh(root)\n",
       "    Bokeh.embed.embed_items_notebook(docs_json, render_items);\n",
       "    for (const render_item of render_items) {\n",
       "      for (const root_id of render_item.root_ids) {\n",
       "\tconst id_el = document.getElementById(root_id)\n",
       "\tif (id_el.children.length && (id_el.children[0].className === 'bk-root')) {\n",
       "\t  const root_el = id_el.children[0]\n",
       "\t  root_el.id = root_el.id + '-rendered'\n",
       "\t}\n",
       "      }\n",
       "    }\n",
       "  }\n",
       "  function get_bokeh(root) {\n",
       "    if (root.Bokeh === undefined) {\n",
       "      return null\n",
       "    } else if (root.Bokeh.version !== py_version) {\n",
       "      if (root.Bokeh.versions === undefined || !root.Bokeh.versions.has(py_version)) {\n",
       "\treturn null\n",
       "      }\n",
       "      return root.Bokeh.versions.get(py_version);\n",
       "    } else if (root.Bokeh.version === py_version) {\n",
       "      return root.Bokeh\n",
       "    }\n",
       "    return null\n",
       "  }\n",
       "  function is_loaded(root) {\n",
       "    var Bokeh = get_bokeh(root)\n",
       "    return (Bokeh != null && Bokeh.Panel !== undefined)\n",
       "  }\n",
       "  if (is_loaded(root)) {\n",
       "    embed_document(root);\n",
       "  } else {\n",
       "    var attempts = 0;\n",
       "    var timer = setInterval(function(root) {\n",
       "      if (is_loaded(root)) {\n",
       "        clearInterval(timer);\n",
       "        embed_document(root);\n",
       "      } else if (document.readyState == \"complete\") {\n",
       "        attempts++;\n",
       "        if (attempts > 200) {\n",
       "          clearInterval(timer);\n",
       "\t  var Bokeh = get_bokeh(root)\n",
       "\t  if (Bokeh == null || Bokeh.Panel == null) {\n",
       "            console.warn(\"Panel: ERROR: Unable to run Panel code because Bokeh or Panel library is missing\");\n",
       "\t  } else {\n",
       "\t    console.warn(\"Panel: WARNING: Attempting to render but not all required libraries could be resolved.\")\n",
       "\t    embed_document(root)\n",
       "\t  }\n",
       "        }\n",
       "      }\n",
       "    }, 25, root)\n",
       "  }\n",
       "})(window);</script>"
      ]
     },
     "metadata": {
      "application/vnd.holoviews_exec.v0+json": {
       "id": "p1002"
      }
     },
     "output_type": "display_data"
    },
    {
     "name": "stderr",
     "output_type": "stream",
     "text": [
      "2024-04-16 17:44:48.807498: I tensorflow/core/platform/cpu_feature_guard.cc:210] This TensorFlow binary is optimized to use available CPU instructions in performance-critical operations.\n",
      "To enable the following instructions: AVX2 FMA, in other operations, rebuild TensorFlow with the appropriate compiler flags.\n"
     ]
    }
   ],
   "source": [
    "#*******************************************************************************************\n",
    " #\n",
    " #  File Name:  student_loans.ipynb\n",
    " #\n",
    " #  File Description:\n",
    " #      This interactive Python notebook, student_loans.ipynb, reads a csv file,\n",
    " #      student_loans.csv, and uses deep learning methods to process the features \n",
    " #      in the provided dataset and create a binary classifier that can predict \n",
    " #      whether student loan applicants will default or not.\n",
    " #\n",
    " #\n",
    " #  Date            Description                             Programmer\n",
    " #  ----------      ------------------------------------    ------------------\n",
    " #  04/15/2024      Initial Development                     Nicholas J. George\n",
    " #\n",
    " #******************************************************************************************/\n",
    "\n",
    "import logx\n",
    "import pandas_processx\n",
    "import student_loans_constants\n",
    "\n",
    "import pandas as pd\n",
    "import tensorflow as tf\n",
    "\n",
    "from sklearn.model_selection import train_test_split\n",
    "from sklearn.preprocessing import StandardScaler\n",
    "\n",
    "from silence_tensorflow import silence_tensorflow\n",
    "silence_tensorflow()"
   ]
  },
  {
   "cell_type": "code",
   "execution_count": 2,
   "metadata": {},
   "outputs": [],
   "source": [
    "CONSTANT_LOCAL_FILE_NAME = 'student_loans.ipynb'\n",
    "\n",
    "\n",
    "logx.set_log_mode(False)\n",
    "\n",
    "logx.set_image_mode(False)\n",
    "\n",
    "\n",
    "logx.begin_program('student_loans')"
   ]
  },
  {
   "cell_type": "markdown",
   "metadata": {},
   "source": [
    "# <br> **Section 1: Extraction**"
   ]
  },
  {
   "cell_type": "markdown",
   "metadata": {},
   "source": [
    "## **1.1: Read the CSV data into a Pandas DataFrame**"
   ]
  },
  {
   "cell_type": "code",
   "execution_count": 3,
   "metadata": {},
   "outputs": [],
   "source": [
    "student_loan_dataframe = pd.read_csv(student_loans_constants.CONSTANT_INPUT_FILE_PATH)\n",
    "\n",
    "logx.log_write_object(student_loan_dataframe)"
   ]
  },
  {
   "cell_type": "markdown",
   "metadata": {},
   "source": [
    "## **1.2: Display Student Loan DataFrame**"
   ]
  },
  {
   "cell_type": "code",
   "execution_count": 4,
   "metadata": {},
   "outputs": [
    {
     "data": {
      "text/html": [
       "<style type=\"text/css\">\n",
       "#T_971d4 caption {\n",
       "  color: black;\n",
       "  font-size: 20px;\n",
       "  font-style: bold;\n",
       "  text-align: center;\n",
       "}\n",
       "#T_971d4_row0_col0, #T_971d4_row0_col1, #T_971d4_row0_col2, #T_971d4_row0_col3, #T_971d4_row0_col4, #T_971d4_row0_col5, #T_971d4_row0_col6, #T_971d4_row0_col7, #T_971d4_row0_col8, #T_971d4_row0_col9, #T_971d4_row0_col10, #T_971d4_row0_col11, #T_971d4_row1_col0, #T_971d4_row1_col1, #T_971d4_row1_col2, #T_971d4_row1_col3, #T_971d4_row1_col4, #T_971d4_row1_col5, #T_971d4_row1_col6, #T_971d4_row1_col7, #T_971d4_row1_col8, #T_971d4_row1_col9, #T_971d4_row1_col10, #T_971d4_row1_col11, #T_971d4_row2_col0, #T_971d4_row2_col1, #T_971d4_row2_col2, #T_971d4_row2_col3, #T_971d4_row2_col4, #T_971d4_row2_col5, #T_971d4_row2_col6, #T_971d4_row2_col7, #T_971d4_row2_col8, #T_971d4_row2_col9, #T_971d4_row2_col10, #T_971d4_row2_col11, #T_971d4_row3_col0, #T_971d4_row3_col1, #T_971d4_row3_col2, #T_971d4_row3_col3, #T_971d4_row3_col4, #T_971d4_row3_col5, #T_971d4_row3_col6, #T_971d4_row3_col7, #T_971d4_row3_col8, #T_971d4_row3_col9, #T_971d4_row3_col10, #T_971d4_row3_col11, #T_971d4_row4_col0, #T_971d4_row4_col1, #T_971d4_row4_col2, #T_971d4_row4_col3, #T_971d4_row4_col4, #T_971d4_row4_col5, #T_971d4_row4_col6, #T_971d4_row4_col7, #T_971d4_row4_col8, #T_971d4_row4_col9, #T_971d4_row4_col10, #T_971d4_row4_col11, #T_971d4_row5_col0, #T_971d4_row5_col1, #T_971d4_row5_col2, #T_971d4_row5_col3, #T_971d4_row5_col4, #T_971d4_row5_col5, #T_971d4_row5_col6, #T_971d4_row5_col7, #T_971d4_row5_col8, #T_971d4_row5_col9, #T_971d4_row5_col10, #T_971d4_row5_col11, #T_971d4_row6_col0, #T_971d4_row6_col1, #T_971d4_row6_col2, #T_971d4_row6_col3, #T_971d4_row6_col4, #T_971d4_row6_col5, #T_971d4_row6_col6, #T_971d4_row6_col7, #T_971d4_row6_col8, #T_971d4_row6_col9, #T_971d4_row6_col10, #T_971d4_row6_col11, #T_971d4_row7_col0, #T_971d4_row7_col1, #T_971d4_row7_col2, #T_971d4_row7_col3, #T_971d4_row7_col4, #T_971d4_row7_col5, #T_971d4_row7_col6, #T_971d4_row7_col7, #T_971d4_row7_col8, #T_971d4_row7_col9, #T_971d4_row7_col10, #T_971d4_row7_col11, #T_971d4_row8_col0, #T_971d4_row8_col1, #T_971d4_row8_col2, #T_971d4_row8_col3, #T_971d4_row8_col4, #T_971d4_row8_col5, #T_971d4_row8_col6, #T_971d4_row8_col7, #T_971d4_row8_col8, #T_971d4_row8_col9, #T_971d4_row8_col10, #T_971d4_row8_col11, #T_971d4_row9_col0, #T_971d4_row9_col1, #T_971d4_row9_col2, #T_971d4_row9_col3, #T_971d4_row9_col4, #T_971d4_row9_col5, #T_971d4_row9_col6, #T_971d4_row9_col7, #T_971d4_row9_col8, #T_971d4_row9_col9, #T_971d4_row9_col10, #T_971d4_row9_col11 {\n",
       "  text-align: center;\n",
       "  border: 1.3px solid red;\n",
       "  color: blue;\n",
       "}\n",
       "</style>\n",
       "<table id=\"T_971d4\">\n",
       "  <caption>Table 1.2: Student Loan Table</caption>\n",
       "  <thead>\n",
       "    <tr>\n",
       "      <th id=\"T_971d4_level0_col0\" class=\"col_heading level0 col0\" >payment_history</th>\n",
       "      <th id=\"T_971d4_level0_col1\" class=\"col_heading level0 col1\" >location_parameter</th>\n",
       "      <th id=\"T_971d4_level0_col2\" class=\"col_heading level0 col2\" >stem_degree_score</th>\n",
       "      <th id=\"T_971d4_level0_col3\" class=\"col_heading level0 col3\" >gpa_ranking</th>\n",
       "      <th id=\"T_971d4_level0_col4\" class=\"col_heading level0 col4\" >alumni_success</th>\n",
       "      <th id=\"T_971d4_level0_col5\" class=\"col_heading level0 col5\" >study_major_code</th>\n",
       "      <th id=\"T_971d4_level0_col6\" class=\"col_heading level0 col6\" >time_to_completion</th>\n",
       "      <th id=\"T_971d4_level0_col7\" class=\"col_heading level0 col7\" >finance_workshop_score</th>\n",
       "      <th id=\"T_971d4_level0_col8\" class=\"col_heading level0 col8\" >cohort_ranking</th>\n",
       "      <th id=\"T_971d4_level0_col9\" class=\"col_heading level0 col9\" >total_loan_score</th>\n",
       "      <th id=\"T_971d4_level0_col10\" class=\"col_heading level0 col10\" >financial_aid_score</th>\n",
       "      <th id=\"T_971d4_level0_col11\" class=\"col_heading level0 col11\" >credit_ranking</th>\n",
       "    </tr>\n",
       "  </thead>\n",
       "  <tbody>\n",
       "    <tr>\n",
       "      <td id=\"T_971d4_row0_col0\" class=\"data row0 col0\" >7.40</td>\n",
       "      <td id=\"T_971d4_row0_col1\" class=\"data row0 col1\" >0.70</td>\n",
       "      <td id=\"T_971d4_row0_col2\" class=\"data row0 col2\" >0.00</td>\n",
       "      <td id=\"T_971d4_row0_col3\" class=\"data row0 col3\" >1.90</td>\n",
       "      <td id=\"T_971d4_row0_col4\" class=\"data row0 col4\" >0.08</td>\n",
       "      <td id=\"T_971d4_row0_col5\" class=\"data row0 col5\" >11.00</td>\n",
       "      <td id=\"T_971d4_row0_col6\" class=\"data row0 col6\" >34.00</td>\n",
       "      <td id=\"T_971d4_row0_col7\" class=\"data row0 col7\" >1.00</td>\n",
       "      <td id=\"T_971d4_row0_col8\" class=\"data row0 col8\" >3.51</td>\n",
       "      <td id=\"T_971d4_row0_col9\" class=\"data row0 col9\" >0.56</td>\n",
       "      <td id=\"T_971d4_row0_col10\" class=\"data row0 col10\" >9.40</td>\n",
       "      <td id=\"T_971d4_row0_col11\" class=\"data row0 col11\" >5</td>\n",
       "    </tr>\n",
       "    <tr>\n",
       "      <td id=\"T_971d4_row1_col0\" class=\"data row1 col0\" >7.80</td>\n",
       "      <td id=\"T_971d4_row1_col1\" class=\"data row1 col1\" >0.88</td>\n",
       "      <td id=\"T_971d4_row1_col2\" class=\"data row1 col2\" >0.00</td>\n",
       "      <td id=\"T_971d4_row1_col3\" class=\"data row1 col3\" >2.60</td>\n",
       "      <td id=\"T_971d4_row1_col4\" class=\"data row1 col4\" >0.10</td>\n",
       "      <td id=\"T_971d4_row1_col5\" class=\"data row1 col5\" >25.00</td>\n",
       "      <td id=\"T_971d4_row1_col6\" class=\"data row1 col6\" >67.00</td>\n",
       "      <td id=\"T_971d4_row1_col7\" class=\"data row1 col7\" >1.00</td>\n",
       "      <td id=\"T_971d4_row1_col8\" class=\"data row1 col8\" >3.20</td>\n",
       "      <td id=\"T_971d4_row1_col9\" class=\"data row1 col9\" >0.68</td>\n",
       "      <td id=\"T_971d4_row1_col10\" class=\"data row1 col10\" >9.80</td>\n",
       "      <td id=\"T_971d4_row1_col11\" class=\"data row1 col11\" >5</td>\n",
       "    </tr>\n",
       "    <tr>\n",
       "      <td id=\"T_971d4_row2_col0\" class=\"data row2 col0\" >7.80</td>\n",
       "      <td id=\"T_971d4_row2_col1\" class=\"data row2 col1\" >0.76</td>\n",
       "      <td id=\"T_971d4_row2_col2\" class=\"data row2 col2\" >0.04</td>\n",
       "      <td id=\"T_971d4_row2_col3\" class=\"data row2 col3\" >2.30</td>\n",
       "      <td id=\"T_971d4_row2_col4\" class=\"data row2 col4\" >0.09</td>\n",
       "      <td id=\"T_971d4_row2_col5\" class=\"data row2 col5\" >15.00</td>\n",
       "      <td id=\"T_971d4_row2_col6\" class=\"data row2 col6\" >54.00</td>\n",
       "      <td id=\"T_971d4_row2_col7\" class=\"data row2 col7\" >1.00</td>\n",
       "      <td id=\"T_971d4_row2_col8\" class=\"data row2 col8\" >3.26</td>\n",
       "      <td id=\"T_971d4_row2_col9\" class=\"data row2 col9\" >0.65</td>\n",
       "      <td id=\"T_971d4_row2_col10\" class=\"data row2 col10\" >9.80</td>\n",
       "      <td id=\"T_971d4_row2_col11\" class=\"data row2 col11\" >5</td>\n",
       "    </tr>\n",
       "    <tr>\n",
       "      <td id=\"T_971d4_row3_col0\" class=\"data row3 col0\" >11.20</td>\n",
       "      <td id=\"T_971d4_row3_col1\" class=\"data row3 col1\" >0.28</td>\n",
       "      <td id=\"T_971d4_row3_col2\" class=\"data row3 col2\" >0.56</td>\n",
       "      <td id=\"T_971d4_row3_col3\" class=\"data row3 col3\" >1.90</td>\n",
       "      <td id=\"T_971d4_row3_col4\" class=\"data row3 col4\" >0.07</td>\n",
       "      <td id=\"T_971d4_row3_col5\" class=\"data row3 col5\" >17.00</td>\n",
       "      <td id=\"T_971d4_row3_col6\" class=\"data row3 col6\" >60.00</td>\n",
       "      <td id=\"T_971d4_row3_col7\" class=\"data row3 col7\" >1.00</td>\n",
       "      <td id=\"T_971d4_row3_col8\" class=\"data row3 col8\" >3.16</td>\n",
       "      <td id=\"T_971d4_row3_col9\" class=\"data row3 col9\" >0.58</td>\n",
       "      <td id=\"T_971d4_row3_col10\" class=\"data row3 col10\" >9.80</td>\n",
       "      <td id=\"T_971d4_row3_col11\" class=\"data row3 col11\" >6</td>\n",
       "    </tr>\n",
       "    <tr>\n",
       "      <td id=\"T_971d4_row4_col0\" class=\"data row4 col0\" >7.40</td>\n",
       "      <td id=\"T_971d4_row4_col1\" class=\"data row4 col1\" >0.70</td>\n",
       "      <td id=\"T_971d4_row4_col2\" class=\"data row4 col2\" >0.00</td>\n",
       "      <td id=\"T_971d4_row4_col3\" class=\"data row4 col3\" >1.90</td>\n",
       "      <td id=\"T_971d4_row4_col4\" class=\"data row4 col4\" >0.08</td>\n",
       "      <td id=\"T_971d4_row4_col5\" class=\"data row4 col5\" >11.00</td>\n",
       "      <td id=\"T_971d4_row4_col6\" class=\"data row4 col6\" >34.00</td>\n",
       "      <td id=\"T_971d4_row4_col7\" class=\"data row4 col7\" >1.00</td>\n",
       "      <td id=\"T_971d4_row4_col8\" class=\"data row4 col8\" >3.51</td>\n",
       "      <td id=\"T_971d4_row4_col9\" class=\"data row4 col9\" >0.56</td>\n",
       "      <td id=\"T_971d4_row4_col10\" class=\"data row4 col10\" >9.40</td>\n",
       "      <td id=\"T_971d4_row4_col11\" class=\"data row4 col11\" >5</td>\n",
       "    </tr>\n",
       "    <tr>\n",
       "      <td id=\"T_971d4_row5_col0\" class=\"data row5 col0\" >7.40</td>\n",
       "      <td id=\"T_971d4_row5_col1\" class=\"data row5 col1\" >0.66</td>\n",
       "      <td id=\"T_971d4_row5_col2\" class=\"data row5 col2\" >0.00</td>\n",
       "      <td id=\"T_971d4_row5_col3\" class=\"data row5 col3\" >1.80</td>\n",
       "      <td id=\"T_971d4_row5_col4\" class=\"data row5 col4\" >0.07</td>\n",
       "      <td id=\"T_971d4_row5_col5\" class=\"data row5 col5\" >13.00</td>\n",
       "      <td id=\"T_971d4_row5_col6\" class=\"data row5 col6\" >40.00</td>\n",
       "      <td id=\"T_971d4_row5_col7\" class=\"data row5 col7\" >1.00</td>\n",
       "      <td id=\"T_971d4_row5_col8\" class=\"data row5 col8\" >3.51</td>\n",
       "      <td id=\"T_971d4_row5_col9\" class=\"data row5 col9\" >0.56</td>\n",
       "      <td id=\"T_971d4_row5_col10\" class=\"data row5 col10\" >9.40</td>\n",
       "      <td id=\"T_971d4_row5_col11\" class=\"data row5 col11\" >5</td>\n",
       "    </tr>\n",
       "    <tr>\n",
       "      <td id=\"T_971d4_row6_col0\" class=\"data row6 col0\" >7.90</td>\n",
       "      <td id=\"T_971d4_row6_col1\" class=\"data row6 col1\" >0.60</td>\n",
       "      <td id=\"T_971d4_row6_col2\" class=\"data row6 col2\" >0.06</td>\n",
       "      <td id=\"T_971d4_row6_col3\" class=\"data row6 col3\" >1.60</td>\n",
       "      <td id=\"T_971d4_row6_col4\" class=\"data row6 col4\" >0.07</td>\n",
       "      <td id=\"T_971d4_row6_col5\" class=\"data row6 col5\" >15.00</td>\n",
       "      <td id=\"T_971d4_row6_col6\" class=\"data row6 col6\" >59.00</td>\n",
       "      <td id=\"T_971d4_row6_col7\" class=\"data row6 col7\" >1.00</td>\n",
       "      <td id=\"T_971d4_row6_col8\" class=\"data row6 col8\" >3.30</td>\n",
       "      <td id=\"T_971d4_row6_col9\" class=\"data row6 col9\" >0.46</td>\n",
       "      <td id=\"T_971d4_row6_col10\" class=\"data row6 col10\" >9.40</td>\n",
       "      <td id=\"T_971d4_row6_col11\" class=\"data row6 col11\" >5</td>\n",
       "    </tr>\n",
       "    <tr>\n",
       "      <td id=\"T_971d4_row7_col0\" class=\"data row7 col0\" >7.30</td>\n",
       "      <td id=\"T_971d4_row7_col1\" class=\"data row7 col1\" >0.65</td>\n",
       "      <td id=\"T_971d4_row7_col2\" class=\"data row7 col2\" >0.00</td>\n",
       "      <td id=\"T_971d4_row7_col3\" class=\"data row7 col3\" >1.20</td>\n",
       "      <td id=\"T_971d4_row7_col4\" class=\"data row7 col4\" >0.07</td>\n",
       "      <td id=\"T_971d4_row7_col5\" class=\"data row7 col5\" >15.00</td>\n",
       "      <td id=\"T_971d4_row7_col6\" class=\"data row7 col6\" >21.00</td>\n",
       "      <td id=\"T_971d4_row7_col7\" class=\"data row7 col7\" >0.99</td>\n",
       "      <td id=\"T_971d4_row7_col8\" class=\"data row7 col8\" >3.39</td>\n",
       "      <td id=\"T_971d4_row7_col9\" class=\"data row7 col9\" >0.47</td>\n",
       "      <td id=\"T_971d4_row7_col10\" class=\"data row7 col10\" >10.00</td>\n",
       "      <td id=\"T_971d4_row7_col11\" class=\"data row7 col11\" >7</td>\n",
       "    </tr>\n",
       "    <tr>\n",
       "      <td id=\"T_971d4_row8_col0\" class=\"data row8 col0\" >7.80</td>\n",
       "      <td id=\"T_971d4_row8_col1\" class=\"data row8 col1\" >0.58</td>\n",
       "      <td id=\"T_971d4_row8_col2\" class=\"data row8 col2\" >0.02</td>\n",
       "      <td id=\"T_971d4_row8_col3\" class=\"data row8 col3\" >2.00</td>\n",
       "      <td id=\"T_971d4_row8_col4\" class=\"data row8 col4\" >0.07</td>\n",
       "      <td id=\"T_971d4_row8_col5\" class=\"data row8 col5\" >9.00</td>\n",
       "      <td id=\"T_971d4_row8_col6\" class=\"data row8 col6\" >18.00</td>\n",
       "      <td id=\"T_971d4_row8_col7\" class=\"data row8 col7\" >1.00</td>\n",
       "      <td id=\"T_971d4_row8_col8\" class=\"data row8 col8\" >3.36</td>\n",
       "      <td id=\"T_971d4_row8_col9\" class=\"data row8 col9\" >0.57</td>\n",
       "      <td id=\"T_971d4_row8_col10\" class=\"data row8 col10\" >9.50</td>\n",
       "      <td id=\"T_971d4_row8_col11\" class=\"data row8 col11\" >7</td>\n",
       "    </tr>\n",
       "    <tr>\n",
       "      <td id=\"T_971d4_row9_col0\" class=\"data row9 col0\" >7.50</td>\n",
       "      <td id=\"T_971d4_row9_col1\" class=\"data row9 col1\" >0.50</td>\n",
       "      <td id=\"T_971d4_row9_col2\" class=\"data row9 col2\" >0.36</td>\n",
       "      <td id=\"T_971d4_row9_col3\" class=\"data row9 col3\" >6.10</td>\n",
       "      <td id=\"T_971d4_row9_col4\" class=\"data row9 col4\" >0.07</td>\n",
       "      <td id=\"T_971d4_row9_col5\" class=\"data row9 col5\" >17.00</td>\n",
       "      <td id=\"T_971d4_row9_col6\" class=\"data row9 col6\" >102.00</td>\n",
       "      <td id=\"T_971d4_row9_col7\" class=\"data row9 col7\" >1.00</td>\n",
       "      <td id=\"T_971d4_row9_col8\" class=\"data row9 col8\" >3.35</td>\n",
       "      <td id=\"T_971d4_row9_col9\" class=\"data row9 col9\" >0.80</td>\n",
       "      <td id=\"T_971d4_row9_col10\" class=\"data row9 col10\" >10.50</td>\n",
       "      <td id=\"T_971d4_row9_col11\" class=\"data row9 col11\" >5</td>\n",
       "    </tr>\n",
       "  </tbody>\n",
       "</table>\n"
      ],
      "text/plain": [
       "<pandas.io.formats.style.Styler at 0x15c09bc90>"
      ]
     },
     "execution_count": 4,
     "metadata": {},
     "output_type": "execute_result"
    }
   ],
   "source": [
    "pandas_processx.return_formatted_table(student_loan_dataframe, 'Table 1.2: Student Loan Table')"
   ]
  },
  {
   "cell_type": "markdown",
   "metadata": {},
   "source": [
    "# <br> **Section 2: Preprocessing**"
   ]
  },
  {
   "cell_type": "markdown",
   "metadata": {},
   "source": [
    "## **2.1: Create the labels series (`y`)  from the “spam” column, and then create the features (`X`) DataFrame from the remaining columns.**"
   ]
  },
  {
   "cell_type": "markdown",
   "metadata": {},
   "source": [
    "### **Separate the Y Variable, the Labels**"
   ]
  },
  {
   "cell_type": "code",
   "execution_count": 5,
   "metadata": {},
   "outputs": [],
   "source": [
    "y_series = student_loan_dataframe['credit_ranking']\n",
    "\n",
    "logx.log_write_object(y_series)"
   ]
  },
  {
   "cell_type": "code",
   "execution_count": 6,
   "metadata": {},
   "outputs": [
    {
     "data": {
      "text/plain": [
       "credit_ranking\n",
       "5    681\n",
       "6    638\n",
       "7    199\n",
       "4     53\n",
       "8     18\n",
       "3     10\n",
       "Name: count, dtype: int64"
      ]
     },
     "execution_count": 6,
     "metadata": {},
     "output_type": "execute_result"
    }
   ],
   "source": [
    "y_series.value_counts()"
   ]
  },
  {
   "cell_type": "markdown",
   "metadata": {},
   "source": [
    "### **Separate the X Variable, the Features**"
   ]
  },
  {
   "cell_type": "code",
   "execution_count": 7,
   "metadata": {},
   "outputs": [],
   "source": [
    "x_dataframe = student_loan_dataframe.drop(columns = 'credit_ranking', axis = 1)\n",
    "\n",
    "logx.log_write_object(x_dataframe)"
   ]
  },
  {
   "cell_type": "code",
   "execution_count": 8,
   "metadata": {},
   "outputs": [
    {
     "data": {
      "text/html": [
       "<style type=\"text/css\">\n",
       "#T_4b75e caption {\n",
       "  color: black;\n",
       "  font-size: 20px;\n",
       "  font-style: bold;\n",
       "  text-align: center;\n",
       "}\n",
       "#T_4b75e_row0_col0, #T_4b75e_row0_col1, #T_4b75e_row0_col2, #T_4b75e_row0_col3, #T_4b75e_row0_col4, #T_4b75e_row0_col5, #T_4b75e_row0_col6, #T_4b75e_row0_col7, #T_4b75e_row0_col8, #T_4b75e_row0_col9, #T_4b75e_row0_col10, #T_4b75e_row1_col0, #T_4b75e_row1_col1, #T_4b75e_row1_col2, #T_4b75e_row1_col3, #T_4b75e_row1_col4, #T_4b75e_row1_col5, #T_4b75e_row1_col6, #T_4b75e_row1_col7, #T_4b75e_row1_col8, #T_4b75e_row1_col9, #T_4b75e_row1_col10, #T_4b75e_row2_col0, #T_4b75e_row2_col1, #T_4b75e_row2_col2, #T_4b75e_row2_col3, #T_4b75e_row2_col4, #T_4b75e_row2_col5, #T_4b75e_row2_col6, #T_4b75e_row2_col7, #T_4b75e_row2_col8, #T_4b75e_row2_col9, #T_4b75e_row2_col10, #T_4b75e_row3_col0, #T_4b75e_row3_col1, #T_4b75e_row3_col2, #T_4b75e_row3_col3, #T_4b75e_row3_col4, #T_4b75e_row3_col5, #T_4b75e_row3_col6, #T_4b75e_row3_col7, #T_4b75e_row3_col8, #T_4b75e_row3_col9, #T_4b75e_row3_col10, #T_4b75e_row4_col0, #T_4b75e_row4_col1, #T_4b75e_row4_col2, #T_4b75e_row4_col3, #T_4b75e_row4_col4, #T_4b75e_row4_col5, #T_4b75e_row4_col6, #T_4b75e_row4_col7, #T_4b75e_row4_col8, #T_4b75e_row4_col9, #T_4b75e_row4_col10, #T_4b75e_row5_col0, #T_4b75e_row5_col1, #T_4b75e_row5_col2, #T_4b75e_row5_col3, #T_4b75e_row5_col4, #T_4b75e_row5_col5, #T_4b75e_row5_col6, #T_4b75e_row5_col7, #T_4b75e_row5_col8, #T_4b75e_row5_col9, #T_4b75e_row5_col10, #T_4b75e_row6_col0, #T_4b75e_row6_col1, #T_4b75e_row6_col2, #T_4b75e_row6_col3, #T_4b75e_row6_col4, #T_4b75e_row6_col5, #T_4b75e_row6_col6, #T_4b75e_row6_col7, #T_4b75e_row6_col8, #T_4b75e_row6_col9, #T_4b75e_row6_col10, #T_4b75e_row7_col0, #T_4b75e_row7_col1, #T_4b75e_row7_col2, #T_4b75e_row7_col3, #T_4b75e_row7_col4, #T_4b75e_row7_col5, #T_4b75e_row7_col6, #T_4b75e_row7_col7, #T_4b75e_row7_col8, #T_4b75e_row7_col9, #T_4b75e_row7_col10, #T_4b75e_row8_col0, #T_4b75e_row8_col1, #T_4b75e_row8_col2, #T_4b75e_row8_col3, #T_4b75e_row8_col4, #T_4b75e_row8_col5, #T_4b75e_row8_col6, #T_4b75e_row8_col7, #T_4b75e_row8_col8, #T_4b75e_row8_col9, #T_4b75e_row8_col10, #T_4b75e_row9_col0, #T_4b75e_row9_col1, #T_4b75e_row9_col2, #T_4b75e_row9_col3, #T_4b75e_row9_col4, #T_4b75e_row9_col5, #T_4b75e_row9_col6, #T_4b75e_row9_col7, #T_4b75e_row9_col8, #T_4b75e_row9_col9, #T_4b75e_row9_col10 {\n",
       "  text-align: center;\n",
       "  border: 1.3px solid red;\n",
       "  color: blue;\n",
       "}\n",
       "</style>\n",
       "<table id=\"T_4b75e\">\n",
       "  <caption>Table 2.1: Student Loan Features DataFrame</caption>\n",
       "  <thead>\n",
       "    <tr>\n",
       "      <th id=\"T_4b75e_level0_col0\" class=\"col_heading level0 col0\" >payment_history</th>\n",
       "      <th id=\"T_4b75e_level0_col1\" class=\"col_heading level0 col1\" >location_parameter</th>\n",
       "      <th id=\"T_4b75e_level0_col2\" class=\"col_heading level0 col2\" >stem_degree_score</th>\n",
       "      <th id=\"T_4b75e_level0_col3\" class=\"col_heading level0 col3\" >gpa_ranking</th>\n",
       "      <th id=\"T_4b75e_level0_col4\" class=\"col_heading level0 col4\" >alumni_success</th>\n",
       "      <th id=\"T_4b75e_level0_col5\" class=\"col_heading level0 col5\" >study_major_code</th>\n",
       "      <th id=\"T_4b75e_level0_col6\" class=\"col_heading level0 col6\" >time_to_completion</th>\n",
       "      <th id=\"T_4b75e_level0_col7\" class=\"col_heading level0 col7\" >finance_workshop_score</th>\n",
       "      <th id=\"T_4b75e_level0_col8\" class=\"col_heading level0 col8\" >cohort_ranking</th>\n",
       "      <th id=\"T_4b75e_level0_col9\" class=\"col_heading level0 col9\" >total_loan_score</th>\n",
       "      <th id=\"T_4b75e_level0_col10\" class=\"col_heading level0 col10\" >financial_aid_score</th>\n",
       "    </tr>\n",
       "  </thead>\n",
       "  <tbody>\n",
       "    <tr>\n",
       "      <td id=\"T_4b75e_row0_col0\" class=\"data row0 col0\" >7.40</td>\n",
       "      <td id=\"T_4b75e_row0_col1\" class=\"data row0 col1\" >0.70</td>\n",
       "      <td id=\"T_4b75e_row0_col2\" class=\"data row0 col2\" >0.00</td>\n",
       "      <td id=\"T_4b75e_row0_col3\" class=\"data row0 col3\" >1.90</td>\n",
       "      <td id=\"T_4b75e_row0_col4\" class=\"data row0 col4\" >0.08</td>\n",
       "      <td id=\"T_4b75e_row0_col5\" class=\"data row0 col5\" >11.00</td>\n",
       "      <td id=\"T_4b75e_row0_col6\" class=\"data row0 col6\" >34.00</td>\n",
       "      <td id=\"T_4b75e_row0_col7\" class=\"data row0 col7\" >1.00</td>\n",
       "      <td id=\"T_4b75e_row0_col8\" class=\"data row0 col8\" >3.51</td>\n",
       "      <td id=\"T_4b75e_row0_col9\" class=\"data row0 col9\" >0.56</td>\n",
       "      <td id=\"T_4b75e_row0_col10\" class=\"data row0 col10\" >9.40</td>\n",
       "    </tr>\n",
       "    <tr>\n",
       "      <td id=\"T_4b75e_row1_col0\" class=\"data row1 col0\" >7.80</td>\n",
       "      <td id=\"T_4b75e_row1_col1\" class=\"data row1 col1\" >0.88</td>\n",
       "      <td id=\"T_4b75e_row1_col2\" class=\"data row1 col2\" >0.00</td>\n",
       "      <td id=\"T_4b75e_row1_col3\" class=\"data row1 col3\" >2.60</td>\n",
       "      <td id=\"T_4b75e_row1_col4\" class=\"data row1 col4\" >0.10</td>\n",
       "      <td id=\"T_4b75e_row1_col5\" class=\"data row1 col5\" >25.00</td>\n",
       "      <td id=\"T_4b75e_row1_col6\" class=\"data row1 col6\" >67.00</td>\n",
       "      <td id=\"T_4b75e_row1_col7\" class=\"data row1 col7\" >1.00</td>\n",
       "      <td id=\"T_4b75e_row1_col8\" class=\"data row1 col8\" >3.20</td>\n",
       "      <td id=\"T_4b75e_row1_col9\" class=\"data row1 col9\" >0.68</td>\n",
       "      <td id=\"T_4b75e_row1_col10\" class=\"data row1 col10\" >9.80</td>\n",
       "    </tr>\n",
       "    <tr>\n",
       "      <td id=\"T_4b75e_row2_col0\" class=\"data row2 col0\" >7.80</td>\n",
       "      <td id=\"T_4b75e_row2_col1\" class=\"data row2 col1\" >0.76</td>\n",
       "      <td id=\"T_4b75e_row2_col2\" class=\"data row2 col2\" >0.04</td>\n",
       "      <td id=\"T_4b75e_row2_col3\" class=\"data row2 col3\" >2.30</td>\n",
       "      <td id=\"T_4b75e_row2_col4\" class=\"data row2 col4\" >0.09</td>\n",
       "      <td id=\"T_4b75e_row2_col5\" class=\"data row2 col5\" >15.00</td>\n",
       "      <td id=\"T_4b75e_row2_col6\" class=\"data row2 col6\" >54.00</td>\n",
       "      <td id=\"T_4b75e_row2_col7\" class=\"data row2 col7\" >1.00</td>\n",
       "      <td id=\"T_4b75e_row2_col8\" class=\"data row2 col8\" >3.26</td>\n",
       "      <td id=\"T_4b75e_row2_col9\" class=\"data row2 col9\" >0.65</td>\n",
       "      <td id=\"T_4b75e_row2_col10\" class=\"data row2 col10\" >9.80</td>\n",
       "    </tr>\n",
       "    <tr>\n",
       "      <td id=\"T_4b75e_row3_col0\" class=\"data row3 col0\" >11.20</td>\n",
       "      <td id=\"T_4b75e_row3_col1\" class=\"data row3 col1\" >0.28</td>\n",
       "      <td id=\"T_4b75e_row3_col2\" class=\"data row3 col2\" >0.56</td>\n",
       "      <td id=\"T_4b75e_row3_col3\" class=\"data row3 col3\" >1.90</td>\n",
       "      <td id=\"T_4b75e_row3_col4\" class=\"data row3 col4\" >0.07</td>\n",
       "      <td id=\"T_4b75e_row3_col5\" class=\"data row3 col5\" >17.00</td>\n",
       "      <td id=\"T_4b75e_row3_col6\" class=\"data row3 col6\" >60.00</td>\n",
       "      <td id=\"T_4b75e_row3_col7\" class=\"data row3 col7\" >1.00</td>\n",
       "      <td id=\"T_4b75e_row3_col8\" class=\"data row3 col8\" >3.16</td>\n",
       "      <td id=\"T_4b75e_row3_col9\" class=\"data row3 col9\" >0.58</td>\n",
       "      <td id=\"T_4b75e_row3_col10\" class=\"data row3 col10\" >9.80</td>\n",
       "    </tr>\n",
       "    <tr>\n",
       "      <td id=\"T_4b75e_row4_col0\" class=\"data row4 col0\" >7.40</td>\n",
       "      <td id=\"T_4b75e_row4_col1\" class=\"data row4 col1\" >0.70</td>\n",
       "      <td id=\"T_4b75e_row4_col2\" class=\"data row4 col2\" >0.00</td>\n",
       "      <td id=\"T_4b75e_row4_col3\" class=\"data row4 col3\" >1.90</td>\n",
       "      <td id=\"T_4b75e_row4_col4\" class=\"data row4 col4\" >0.08</td>\n",
       "      <td id=\"T_4b75e_row4_col5\" class=\"data row4 col5\" >11.00</td>\n",
       "      <td id=\"T_4b75e_row4_col6\" class=\"data row4 col6\" >34.00</td>\n",
       "      <td id=\"T_4b75e_row4_col7\" class=\"data row4 col7\" >1.00</td>\n",
       "      <td id=\"T_4b75e_row4_col8\" class=\"data row4 col8\" >3.51</td>\n",
       "      <td id=\"T_4b75e_row4_col9\" class=\"data row4 col9\" >0.56</td>\n",
       "      <td id=\"T_4b75e_row4_col10\" class=\"data row4 col10\" >9.40</td>\n",
       "    </tr>\n",
       "    <tr>\n",
       "      <td id=\"T_4b75e_row5_col0\" class=\"data row5 col0\" >7.40</td>\n",
       "      <td id=\"T_4b75e_row5_col1\" class=\"data row5 col1\" >0.66</td>\n",
       "      <td id=\"T_4b75e_row5_col2\" class=\"data row5 col2\" >0.00</td>\n",
       "      <td id=\"T_4b75e_row5_col3\" class=\"data row5 col3\" >1.80</td>\n",
       "      <td id=\"T_4b75e_row5_col4\" class=\"data row5 col4\" >0.07</td>\n",
       "      <td id=\"T_4b75e_row5_col5\" class=\"data row5 col5\" >13.00</td>\n",
       "      <td id=\"T_4b75e_row5_col6\" class=\"data row5 col6\" >40.00</td>\n",
       "      <td id=\"T_4b75e_row5_col7\" class=\"data row5 col7\" >1.00</td>\n",
       "      <td id=\"T_4b75e_row5_col8\" class=\"data row5 col8\" >3.51</td>\n",
       "      <td id=\"T_4b75e_row5_col9\" class=\"data row5 col9\" >0.56</td>\n",
       "      <td id=\"T_4b75e_row5_col10\" class=\"data row5 col10\" >9.40</td>\n",
       "    </tr>\n",
       "    <tr>\n",
       "      <td id=\"T_4b75e_row6_col0\" class=\"data row6 col0\" >7.90</td>\n",
       "      <td id=\"T_4b75e_row6_col1\" class=\"data row6 col1\" >0.60</td>\n",
       "      <td id=\"T_4b75e_row6_col2\" class=\"data row6 col2\" >0.06</td>\n",
       "      <td id=\"T_4b75e_row6_col3\" class=\"data row6 col3\" >1.60</td>\n",
       "      <td id=\"T_4b75e_row6_col4\" class=\"data row6 col4\" >0.07</td>\n",
       "      <td id=\"T_4b75e_row6_col5\" class=\"data row6 col5\" >15.00</td>\n",
       "      <td id=\"T_4b75e_row6_col6\" class=\"data row6 col6\" >59.00</td>\n",
       "      <td id=\"T_4b75e_row6_col7\" class=\"data row6 col7\" >1.00</td>\n",
       "      <td id=\"T_4b75e_row6_col8\" class=\"data row6 col8\" >3.30</td>\n",
       "      <td id=\"T_4b75e_row6_col9\" class=\"data row6 col9\" >0.46</td>\n",
       "      <td id=\"T_4b75e_row6_col10\" class=\"data row6 col10\" >9.40</td>\n",
       "    </tr>\n",
       "    <tr>\n",
       "      <td id=\"T_4b75e_row7_col0\" class=\"data row7 col0\" >7.30</td>\n",
       "      <td id=\"T_4b75e_row7_col1\" class=\"data row7 col1\" >0.65</td>\n",
       "      <td id=\"T_4b75e_row7_col2\" class=\"data row7 col2\" >0.00</td>\n",
       "      <td id=\"T_4b75e_row7_col3\" class=\"data row7 col3\" >1.20</td>\n",
       "      <td id=\"T_4b75e_row7_col4\" class=\"data row7 col4\" >0.07</td>\n",
       "      <td id=\"T_4b75e_row7_col5\" class=\"data row7 col5\" >15.00</td>\n",
       "      <td id=\"T_4b75e_row7_col6\" class=\"data row7 col6\" >21.00</td>\n",
       "      <td id=\"T_4b75e_row7_col7\" class=\"data row7 col7\" >0.99</td>\n",
       "      <td id=\"T_4b75e_row7_col8\" class=\"data row7 col8\" >3.39</td>\n",
       "      <td id=\"T_4b75e_row7_col9\" class=\"data row7 col9\" >0.47</td>\n",
       "      <td id=\"T_4b75e_row7_col10\" class=\"data row7 col10\" >10.00</td>\n",
       "    </tr>\n",
       "    <tr>\n",
       "      <td id=\"T_4b75e_row8_col0\" class=\"data row8 col0\" >7.80</td>\n",
       "      <td id=\"T_4b75e_row8_col1\" class=\"data row8 col1\" >0.58</td>\n",
       "      <td id=\"T_4b75e_row8_col2\" class=\"data row8 col2\" >0.02</td>\n",
       "      <td id=\"T_4b75e_row8_col3\" class=\"data row8 col3\" >2.00</td>\n",
       "      <td id=\"T_4b75e_row8_col4\" class=\"data row8 col4\" >0.07</td>\n",
       "      <td id=\"T_4b75e_row8_col5\" class=\"data row8 col5\" >9.00</td>\n",
       "      <td id=\"T_4b75e_row8_col6\" class=\"data row8 col6\" >18.00</td>\n",
       "      <td id=\"T_4b75e_row8_col7\" class=\"data row8 col7\" >1.00</td>\n",
       "      <td id=\"T_4b75e_row8_col8\" class=\"data row8 col8\" >3.36</td>\n",
       "      <td id=\"T_4b75e_row8_col9\" class=\"data row8 col9\" >0.57</td>\n",
       "      <td id=\"T_4b75e_row8_col10\" class=\"data row8 col10\" >9.50</td>\n",
       "    </tr>\n",
       "    <tr>\n",
       "      <td id=\"T_4b75e_row9_col0\" class=\"data row9 col0\" >7.50</td>\n",
       "      <td id=\"T_4b75e_row9_col1\" class=\"data row9 col1\" >0.50</td>\n",
       "      <td id=\"T_4b75e_row9_col2\" class=\"data row9 col2\" >0.36</td>\n",
       "      <td id=\"T_4b75e_row9_col3\" class=\"data row9 col3\" >6.10</td>\n",
       "      <td id=\"T_4b75e_row9_col4\" class=\"data row9 col4\" >0.07</td>\n",
       "      <td id=\"T_4b75e_row9_col5\" class=\"data row9 col5\" >17.00</td>\n",
       "      <td id=\"T_4b75e_row9_col6\" class=\"data row9 col6\" >102.00</td>\n",
       "      <td id=\"T_4b75e_row9_col7\" class=\"data row9 col7\" >1.00</td>\n",
       "      <td id=\"T_4b75e_row9_col8\" class=\"data row9 col8\" >3.35</td>\n",
       "      <td id=\"T_4b75e_row9_col9\" class=\"data row9 col9\" >0.80</td>\n",
       "      <td id=\"T_4b75e_row9_col10\" class=\"data row9 col10\" >10.50</td>\n",
       "    </tr>\n",
       "  </tbody>\n",
       "</table>\n"
      ],
      "text/plain": [
       "<pandas.io.formats.style.Styler at 0x15c129ad0>"
      ]
     },
     "execution_count": 8,
     "metadata": {},
     "output_type": "execute_result"
    }
   ],
   "source": [
    "pandas_processx.return_formatted_table(x_dataframe, 'Table 2.1: Student Loan Features DataFrame')"
   ]
  },
  {
   "cell_type": "markdown",
   "metadata": {},
   "source": [
    "## **2.2: Split the Data into Training and Testing Datasets by Using `train_test_split`.**"
   ]
  },
  {
   "cell_type": "code",
   "execution_count": 9,
   "metadata": {},
   "outputs": [],
   "source": [
    "x_train_dataframe, x_test_dataframe, \\\n",
    "y_train_series, y_test_series \\\n",
    "    = train_test_split \\\n",
    "        (x_dataframe, y_series, \n",
    "         random_state = student_loans_constants.CONSTANT_DL_RANDOM_STATE_1)"
   ]
  },
  {
   "cell_type": "code",
   "execution_count": 10,
   "metadata": {},
   "outputs": [],
   "source": [
    "logx.log_write_object(x_train_dataframe)\n",
    "\n",
    "logx.log_write_object(x_test_dataframe)\n",
    "\n",
    "logx.log_write_object(y_train_series)\n",
    "\n",
    "logx.log_write_object(y_test_series)"
   ]
  },
  {
   "cell_type": "markdown",
   "metadata": {},
   "source": [
    "## **2.3: Use the StandardScaler to Scale the X Variables**"
   ]
  },
  {
   "cell_type": "markdown",
   "metadata": {},
   "source": [
    "### **Create a StandardScaler Instance**"
   ]
  },
  {
   "cell_type": "code",
   "execution_count": 11,
   "metadata": {},
   "outputs": [],
   "source": [
    "current_standard_scalar = StandardScaler()"
   ]
  },
  {
   "cell_type": "markdown",
   "metadata": {},
   "source": [
    "### **Fit the StandardScaler**"
   ]
  },
  {
   "cell_type": "code",
   "execution_count": 12,
   "metadata": {},
   "outputs": [],
   "source": [
    "x_standard_scalar = current_standard_scalar.fit(x_train_dataframe)"
   ]
  },
  {
   "cell_type": "markdown",
   "metadata": {},
   "source": [
    "### **Scale the Data**"
   ]
  },
  {
   "cell_type": "code",
   "execution_count": 13,
   "metadata": {},
   "outputs": [],
   "source": [
    "x_train_scaled_nparray = x_standard_scalar.transform(x_train_dataframe)\n",
    "\n",
    "logx.log_write_object(x_train_scaled_nparray)"
   ]
  },
  {
   "cell_type": "code",
   "execution_count": 14,
   "metadata": {},
   "outputs": [],
   "source": [
    "x_test_scaled_nparray = x_standard_scalar.transform(x_test_dataframe)\n",
    "\n",
    "logx.log_write_object(x_test_scaled_nparray)"
   ]
  },
  {
   "cell_type": "markdown",
   "metadata": {},
   "source": [
    "# <br> **Section 3: Compile, Train, Evaluate, and Export the Model**"
   ]
  },
  {
   "cell_type": "markdown",
   "metadata": {},
   "source": [
    "## **3.1: Compile Model**"
   ]
  },
  {
   "cell_type": "markdown",
   "metadata": {},
   "source": [
    "### **Model Definition**"
   ]
  },
  {
   "cell_type": "code",
   "execution_count": 15,
   "metadata": {},
   "outputs": [
    {
     "name": "stdout",
     "output_type": "stream",
     "text": [
      "\u001b[1mThe number of inputs (features) in the model is 11.\u001b[0m\n"
     ]
    }
   ],
   "source": [
    "number_input_features_integer = len(x_train_scaled_nparray[0])\n",
    "\n",
    "logx.print_and_log_text \\\n",
    "    ('\\033[1m'\n",
    "     + 'The number of inputs (features) in the model is {:,}.' \\\n",
    "         .format(number_input_features_integer) \n",
    "     + '\\033[0m')"
   ]
  },
  {
   "cell_type": "code",
   "execution_count": 16,
   "metadata": {},
   "outputs": [
    {
     "name": "stdout",
     "output_type": "stream",
     "text": [
      "\u001b[1mThe number of nodes in the first hidden layer is 8.\u001b[0m\n"
     ]
    }
   ],
   "source": [
    "activation_layer1_string = 'relu'\n",
    "\n",
    "hidden_nodes_layer1_integer = 8\n",
    "\n",
    "logx.print_and_log_text \\\n",
    "    ('\\033[1m'\n",
    "     + 'The number of nodes in the first hidden layer is {:,}.' \\\n",
    "         .format(hidden_nodes_layer1_integer) \n",
    "     + '\\033[0m')"
   ]
  },
  {
   "cell_type": "code",
   "execution_count": 17,
   "metadata": {},
   "outputs": [
    {
     "name": "stdout",
     "output_type": "stream",
     "text": [
      "\u001b[1mThe number of nodes in the second hidden layer is 4.\u001b[0m\n"
     ]
    }
   ],
   "source": [
    "activation_layer2_string = 'relu'\n",
    "\n",
    "hidden_nodes_layer2_integer = 4\n",
    "\n",
    "logx.print_and_log_text \\\n",
    "    ('\\033[1m'\n",
    "     + 'The number of nodes in the second hidden layer is {:,}.' \\\n",
    "         .format(hidden_nodes_layer2_integer) \n",
    "     + '\\033[0m')"
   ]
  },
  {
   "cell_type": "code",
   "execution_count": 18,
   "metadata": {},
   "outputs": [
    {
     "name": "stdout",
     "output_type": "stream",
     "text": [
      "\u001b[1mThe number of nodes in the output layer is 1.\u001b[0m\n"
     ]
    }
   ],
   "source": [
    "activation_output_layer_string = 'linear'\n",
    "\n",
    "output_layer_integer = 1\n",
    "\n",
    "logx.print_and_log_text \\\n",
    "    ('\\033[1m'\n",
    "     + 'The number of nodes in the output layer is {:,}.' \\\n",
    "         .format(output_layer_integer) \n",
    "     + '\\033[0m')"
   ]
  },
  {
   "cell_type": "markdown",
   "metadata": {},
   "source": [
    "### **Instantiate the Model**"
   ]
  },
  {
   "cell_type": "code",
   "execution_count": 19,
   "metadata": {},
   "outputs": [],
   "source": [
    "neural_network_sequential_model = tf.keras.models.Sequential()"
   ]
  },
  {
   "cell_type": "markdown",
   "metadata": {},
   "source": [
    "### **Layers**"
   ]
  },
  {
   "cell_type": "code",
   "execution_count": 20,
   "metadata": {},
   "outputs": [
    {
     "name": "stderr",
     "output_type": "stream",
     "text": [
      "/opt/anaconda3/lib/python3.11/site-packages/keras/src/layers/core/dense.py:86: UserWarning: Do not pass an `input_shape`/`input_dim` argument to a layer. When using Sequential models, prefer using an `Input(shape)` object as the first layer in the model instead.\n",
      "  super().__init__(activity_regularizer=activity_regularizer, **kwargs)\n"
     ]
    }
   ],
   "source": [
    "neural_network_sequential_model.add \\\n",
    "    (tf.keras.layers.Dense \\\n",
    "         (units = 98, \n",
    "          activation = 'tanh', \n",
    "          input_dim = number_input_features_integer))\n",
    "\n",
    "neural_network_sequential_model.add \\\n",
    "    (tf.keras.layers.Dense \\\n",
    "         (units = 45, \n",
    "          activation = 'tanh'))\n",
    "\n",
    "neural_network_sequential_model.add \\\n",
    "    (tf.keras.layers.Dense \\\n",
    "         (units = 1, \n",
    "          activation = 'linear'))"
   ]
  },
  {
   "cell_type": "markdown",
   "metadata": {},
   "source": [
    "### **Model Summary**"
   ]
  },
  {
   "cell_type": "code",
   "execution_count": 21,
   "metadata": {},
   "outputs": [
    {
     "data": {
      "text/html": [
       "<pre style=\"white-space:pre;overflow-x:auto;line-height:normal;font-family:Menlo,'DejaVu Sans Mono',consolas,'Courier New',monospace\"><span style=\"font-weight: bold\">Model: \"sequential\"</span>\n",
       "</pre>\n"
      ],
      "text/plain": [
       "\u001b[1mModel: \"sequential\"\u001b[0m\n"
      ]
     },
     "metadata": {},
     "output_type": "display_data"
    },
    {
     "data": {
      "text/html": [
       "<pre style=\"white-space:pre;overflow-x:auto;line-height:normal;font-family:Menlo,'DejaVu Sans Mono',consolas,'Courier New',monospace\">┏━━━━━━━━━━━━━━━━━━━━━━━━━━━━━━━━━┳━━━━━━━━━━━━━━━━━━━━━━━━┳━━━━━━━━━━━━━━━┓\n",
       "┃<span style=\"font-weight: bold\"> Layer (type)                    </span>┃<span style=\"font-weight: bold\"> Output Shape           </span>┃<span style=\"font-weight: bold\">       Param # </span>┃\n",
       "┡━━━━━━━━━━━━━━━━━━━━━━━━━━━━━━━━━╇━━━━━━━━━━━━━━━━━━━━━━━━╇━━━━━━━━━━━━━━━┩\n",
       "│ dense (<span style=\"color: #0087ff; text-decoration-color: #0087ff\">Dense</span>)                   │ (<span style=\"color: #00d7ff; text-decoration-color: #00d7ff\">None</span>, <span style=\"color: #00af00; text-decoration-color: #00af00\">98</span>)             │         <span style=\"color: #00af00; text-decoration-color: #00af00\">1,176</span> │\n",
       "├─────────────────────────────────┼────────────────────────┼───────────────┤\n",
       "│ dense_1 (<span style=\"color: #0087ff; text-decoration-color: #0087ff\">Dense</span>)                 │ (<span style=\"color: #00d7ff; text-decoration-color: #00d7ff\">None</span>, <span style=\"color: #00af00; text-decoration-color: #00af00\">45</span>)             │         <span style=\"color: #00af00; text-decoration-color: #00af00\">4,455</span> │\n",
       "├─────────────────────────────────┼────────────────────────┼───────────────┤\n",
       "│ dense_2 (<span style=\"color: #0087ff; text-decoration-color: #0087ff\">Dense</span>)                 │ (<span style=\"color: #00d7ff; text-decoration-color: #00d7ff\">None</span>, <span style=\"color: #00af00; text-decoration-color: #00af00\">1</span>)              │            <span style=\"color: #00af00; text-decoration-color: #00af00\">46</span> │\n",
       "└─────────────────────────────────┴────────────────────────┴───────────────┘\n",
       "</pre>\n"
      ],
      "text/plain": [
       "┏━━━━━━━━━━━━━━━━━━━━━━━━━━━━━━━━━┳━━━━━━━━━━━━━━━━━━━━━━━━┳━━━━━━━━━━━━━━━┓\n",
       "┃\u001b[1m \u001b[0m\u001b[1mLayer (type)                   \u001b[0m\u001b[1m \u001b[0m┃\u001b[1m \u001b[0m\u001b[1mOutput Shape          \u001b[0m\u001b[1m \u001b[0m┃\u001b[1m \u001b[0m\u001b[1m      Param #\u001b[0m\u001b[1m \u001b[0m┃\n",
       "┡━━━━━━━━━━━━━━━━━━━━━━━━━━━━━━━━━╇━━━━━━━━━━━━━━━━━━━━━━━━╇━━━━━━━━━━━━━━━┩\n",
       "│ dense (\u001b[38;5;33mDense\u001b[0m)                   │ (\u001b[38;5;45mNone\u001b[0m, \u001b[38;5;34m98\u001b[0m)             │         \u001b[38;5;34m1,176\u001b[0m │\n",
       "├─────────────────────────────────┼────────────────────────┼───────────────┤\n",
       "│ dense_1 (\u001b[38;5;33mDense\u001b[0m)                 │ (\u001b[38;5;45mNone\u001b[0m, \u001b[38;5;34m45\u001b[0m)             │         \u001b[38;5;34m4,455\u001b[0m │\n",
       "├─────────────────────────────────┼────────────────────────┼───────────────┤\n",
       "│ dense_2 (\u001b[38;5;33mDense\u001b[0m)                 │ (\u001b[38;5;45mNone\u001b[0m, \u001b[38;5;34m1\u001b[0m)              │            \u001b[38;5;34m46\u001b[0m │\n",
       "└─────────────────────────────────┴────────────────────────┴───────────────┘\n"
      ]
     },
     "metadata": {},
     "output_type": "display_data"
    },
    {
     "data": {
      "text/html": [
       "<pre style=\"white-space:pre;overflow-x:auto;line-height:normal;font-family:Menlo,'DejaVu Sans Mono',consolas,'Courier New',monospace\"><span style=\"font-weight: bold\"> Total params: </span><span style=\"color: #00af00; text-decoration-color: #00af00\">5,677</span> (22.18 KB)\n",
       "</pre>\n"
      ],
      "text/plain": [
       "\u001b[1m Total params: \u001b[0m\u001b[38;5;34m5,677\u001b[0m (22.18 KB)\n"
      ]
     },
     "metadata": {},
     "output_type": "display_data"
    },
    {
     "data": {
      "text/html": [
       "<pre style=\"white-space:pre;overflow-x:auto;line-height:normal;font-family:Menlo,'DejaVu Sans Mono',consolas,'Courier New',monospace\"><span style=\"font-weight: bold\"> Trainable params: </span><span style=\"color: #00af00; text-decoration-color: #00af00\">5,677</span> (22.18 KB)\n",
       "</pre>\n"
      ],
      "text/plain": [
       "\u001b[1m Trainable params: \u001b[0m\u001b[38;5;34m5,677\u001b[0m (22.18 KB)\n"
      ]
     },
     "metadata": {},
     "output_type": "display_data"
    },
    {
     "data": {
      "text/html": [
       "<pre style=\"white-space:pre;overflow-x:auto;line-height:normal;font-family:Menlo,'DejaVu Sans Mono',consolas,'Courier New',monospace\"><span style=\"font-weight: bold\"> Non-trainable params: </span><span style=\"color: #00af00; text-decoration-color: #00af00\">0</span> (0.00 B)\n",
       "</pre>\n"
      ],
      "text/plain": [
       "\u001b[1m Non-trainable params: \u001b[0m\u001b[38;5;34m0\u001b[0m (0.00 B)\n"
      ]
     },
     "metadata": {},
     "output_type": "display_data"
    }
   ],
   "source": [
    "neural_network_sequential_model.summary()"
   ]
  },
  {
   "cell_type": "markdown",
   "metadata": {},
   "source": [
    "### **Compile**"
   ]
  },
  {
   "cell_type": "code",
   "execution_count": 22,
   "metadata": {},
   "outputs": [],
   "source": [
    "neural_network_sequential_model.compile \\\n",
    "    (loss = 'mean_squared_error', \n",
    "     optimizer = tf.keras.optimizers.Adam(learning_rate = 0.0024876),\n",
    "     metrics = ['mse'])"
   ]
  },
  {
   "cell_type": "markdown",
   "metadata": {},
   "source": [
    "## **3.2: Fit and Train Model**"
   ]
  },
  {
   "cell_type": "code",
   "execution_count": 23,
   "metadata": {
    "scrolled": true
   },
   "outputs": [
    {
     "name": "stdout",
     "output_type": "stream",
     "text": [
      "Epoch 1/1000\n",
      "\u001b[1m38/38\u001b[0m \u001b[32m━━━━━━━━━━━━━━━━━━━━\u001b[0m\u001b[37m\u001b[0m \u001b[1m1s\u001b[0m 4ms/step - loss: 26.6536 - mse: 26.6536 - val_loss: 3.4316 - val_mse: 3.4316\n",
      "Epoch 2/1000\n",
      "\u001b[1m38/38\u001b[0m \u001b[32m━━━━━━━━━━━━━━━━━━━━\u001b[0m\u001b[37m\u001b[0m \u001b[1m0s\u001b[0m 1ms/step - loss: 1.7021 - mse: 1.7021 - val_loss: 0.4617 - val_mse: 0.4617\n",
      "Epoch 3/1000\n",
      "\u001b[1m38/38\u001b[0m \u001b[32m━━━━━━━━━━━━━━━━━━━━\u001b[0m\u001b[37m\u001b[0m \u001b[1m0s\u001b[0m 1ms/step - loss: 0.5152 - mse: 0.5152 - val_loss: 0.4170 - val_mse: 0.4170\n",
      "Epoch 4/1000\n",
      "\u001b[1m38/38\u001b[0m \u001b[32m━━━━━━━━━━━━━━━━━━━━\u001b[0m\u001b[37m\u001b[0m \u001b[1m0s\u001b[0m 1ms/step - loss: 0.4682 - mse: 0.4682 - val_loss: 0.3985 - val_mse: 0.3985\n",
      "Epoch 5/1000\n",
      "\u001b[1m38/38\u001b[0m \u001b[32m━━━━━━━━━━━━━━━━━━━━\u001b[0m\u001b[37m\u001b[0m \u001b[1m0s\u001b[0m 1ms/step - loss: 0.5168 - mse: 0.5168 - val_loss: 0.3815 - val_mse: 0.3815\n",
      "Epoch 6/1000\n",
      "\u001b[1m38/38\u001b[0m \u001b[32m━━━━━━━━━━━━━━━━━━━━\u001b[0m\u001b[37m\u001b[0m \u001b[1m0s\u001b[0m 1ms/step - loss: 0.4478 - mse: 0.4478 - val_loss: 0.4195 - val_mse: 0.4195\n",
      "Epoch 7/1000\n",
      "\u001b[1m38/38\u001b[0m \u001b[32m━━━━━━━━━━━━━━━━━━━━\u001b[0m\u001b[37m\u001b[0m \u001b[1m0s\u001b[0m 1ms/step - loss: 0.5000 - mse: 0.5000 - val_loss: 0.3998 - val_mse: 0.3998\n",
      "Epoch 8/1000\n",
      "\u001b[1m38/38\u001b[0m \u001b[32m━━━━━━━━━━━━━━━━━━━━\u001b[0m\u001b[37m\u001b[0m \u001b[1m0s\u001b[0m 1ms/step - loss: 0.4339 - mse: 0.4339 - val_loss: 0.3762 - val_mse: 0.3762\n",
      "Epoch 9/1000\n",
      "\u001b[1m38/38\u001b[0m \u001b[32m━━━━━━━━━━━━━━━━━━━━\u001b[0m\u001b[37m\u001b[0m \u001b[1m0s\u001b[0m 1ms/step - loss: 0.4612 - mse: 0.4612 - val_loss: 0.3904 - val_mse: 0.3904\n",
      "Epoch 10/1000\n",
      "\u001b[1m38/38\u001b[0m \u001b[32m━━━━━━━━━━━━━━━━━━━━\u001b[0m\u001b[37m\u001b[0m \u001b[1m0s\u001b[0m 1ms/step - loss: 0.4160 - mse: 0.4160 - val_loss: 0.3957 - val_mse: 0.3957\n",
      "Epoch 11/1000\n",
      "\u001b[1m38/38\u001b[0m \u001b[32m━━━━━━━━━━━━━━━━━━━━\u001b[0m\u001b[37m\u001b[0m \u001b[1m0s\u001b[0m 1ms/step - loss: 0.4110 - mse: 0.4110 - val_loss: 0.3743 - val_mse: 0.3743\n",
      "Epoch 12/1000\n",
      "\u001b[1m38/38\u001b[0m \u001b[32m━━━━━━━━━━━━━━━━━━━━\u001b[0m\u001b[37m\u001b[0m \u001b[1m0s\u001b[0m 1ms/step - loss: 0.4018 - mse: 0.4018 - val_loss: 0.3765 - val_mse: 0.3765\n",
      "Epoch 13/1000\n",
      "\u001b[1m38/38\u001b[0m \u001b[32m━━━━━━━━━━━━━━━━━━━━\u001b[0m\u001b[37m\u001b[0m \u001b[1m0s\u001b[0m 1ms/step - loss: 0.4202 - mse: 0.4202 - val_loss: 0.3696 - val_mse: 0.3696\n",
      "Epoch 14/1000\n",
      "\u001b[1m38/38\u001b[0m \u001b[32m━━━━━━━━━━━━━━━━━━━━\u001b[0m\u001b[37m\u001b[0m \u001b[1m0s\u001b[0m 1ms/step - loss: 0.4072 - mse: 0.4072 - val_loss: 0.3777 - val_mse: 0.3777\n",
      "Epoch 15/1000\n",
      "\u001b[1m38/38\u001b[0m \u001b[32m━━━━━━━━━━━━━━━━━━━━\u001b[0m\u001b[37m\u001b[0m \u001b[1m0s\u001b[0m 1ms/step - loss: 0.3823 - mse: 0.3823 - val_loss: 0.3509 - val_mse: 0.3509\n",
      "Epoch 16/1000\n",
      "\u001b[1m38/38\u001b[0m \u001b[32m━━━━━━━━━━━━━━━━━━━━\u001b[0m\u001b[37m\u001b[0m \u001b[1m0s\u001b[0m 1ms/step - loss: 0.4216 - mse: 0.4216 - val_loss: 0.3694 - val_mse: 0.3694\n",
      "Epoch 17/1000\n",
      "\u001b[1m38/38\u001b[0m \u001b[32m━━━━━━━━━━━━━━━━━━━━\u001b[0m\u001b[37m\u001b[0m \u001b[1m0s\u001b[0m 1ms/step - loss: 0.3942 - mse: 0.3942 - val_loss: 0.3875 - val_mse: 0.3875\n",
      "Epoch 18/1000\n",
      "\u001b[1m38/38\u001b[0m \u001b[32m━━━━━━━━━━━━━━━━━━━━\u001b[0m\u001b[37m\u001b[0m \u001b[1m0s\u001b[0m 2ms/step - loss: 0.4004 - mse: 0.4004 - val_loss: 0.3740 - val_mse: 0.3740\n",
      "Epoch 19/1000\n",
      "\u001b[1m38/38\u001b[0m \u001b[32m━━━━━━━━━━━━━━━━━━━━\u001b[0m\u001b[37m\u001b[0m \u001b[1m0s\u001b[0m 1ms/step - loss: 0.3916 - mse: 0.3916 - val_loss: 0.4044 - val_mse: 0.4044\n",
      "Epoch 20/1000\n",
      "\u001b[1m38/38\u001b[0m \u001b[32m━━━━━━━━━━━━━━━━━━━━\u001b[0m\u001b[37m\u001b[0m \u001b[1m0s\u001b[0m 1ms/step - loss: 0.4036 - mse: 0.4036 - val_loss: 0.3807 - val_mse: 0.3807\n",
      "Epoch 21/1000\n",
      "\u001b[1m38/38\u001b[0m \u001b[32m━━━━━━━━━━━━━━━━━━━━\u001b[0m\u001b[37m\u001b[0m \u001b[1m0s\u001b[0m 1ms/step - loss: 0.3759 - mse: 0.3759 - val_loss: 0.3747 - val_mse: 0.3747\n",
      "Epoch 22/1000\n",
      "\u001b[1m38/38\u001b[0m \u001b[32m━━━━━━━━━━━━━━━━━━━━\u001b[0m\u001b[37m\u001b[0m \u001b[1m0s\u001b[0m 1ms/step - loss: 0.3789 - mse: 0.3789 - val_loss: 0.3874 - val_mse: 0.3874\n",
      "Epoch 23/1000\n",
      "\u001b[1m38/38\u001b[0m \u001b[32m━━━━━━━━━━━━━━━━━━━━\u001b[0m\u001b[37m\u001b[0m \u001b[1m0s\u001b[0m 1ms/step - loss: 0.4165 - mse: 0.4165 - val_loss: 0.4047 - val_mse: 0.4047\n",
      "Epoch 24/1000\n",
      "\u001b[1m38/38\u001b[0m \u001b[32m━━━━━━━━━━━━━━━━━━━━\u001b[0m\u001b[37m\u001b[0m \u001b[1m0s\u001b[0m 1ms/step - loss: 0.3699 - mse: 0.3699 - val_loss: 0.3922 - val_mse: 0.3922\n",
      "Epoch 25/1000\n",
      "\u001b[1m38/38\u001b[0m \u001b[32m━━━━━━━━━━━━━━━━━━━━\u001b[0m\u001b[37m\u001b[0m \u001b[1m0s\u001b[0m 1ms/step - loss: 0.3954 - mse: 0.3954 - val_loss: 0.3535 - val_mse: 0.3535\n",
      "Epoch 26/1000\n",
      "\u001b[1m38/38\u001b[0m \u001b[32m━━━━━━━━━━━━━━━━━━━━\u001b[0m\u001b[37m\u001b[0m \u001b[1m0s\u001b[0m 1ms/step - loss: 0.3700 - mse: 0.3700 - val_loss: 0.3428 - val_mse: 0.3428\n",
      "Epoch 27/1000\n",
      "\u001b[1m38/38\u001b[0m \u001b[32m━━━━━━━━━━━━━━━━━━━━\u001b[0m\u001b[37m\u001b[0m \u001b[1m0s\u001b[0m 1ms/step - loss: 0.3780 - mse: 0.3780 - val_loss: 0.3683 - val_mse: 0.3683\n",
      "Epoch 28/1000\n",
      "\u001b[1m38/38\u001b[0m \u001b[32m━━━━━━━━━━━━━━━━━━━━\u001b[0m\u001b[37m\u001b[0m \u001b[1m0s\u001b[0m 1ms/step - loss: 0.3528 - mse: 0.3528 - val_loss: 0.3610 - val_mse: 0.3610\n",
      "Epoch 29/1000\n",
      "\u001b[1m38/38\u001b[0m \u001b[32m━━━━━━━━━━━━━━━━━━━━\u001b[0m\u001b[37m\u001b[0m \u001b[1m0s\u001b[0m 1ms/step - loss: 0.3744 - mse: 0.3744 - val_loss: 0.3523 - val_mse: 0.3523\n",
      "Epoch 30/1000\n",
      "\u001b[1m38/38\u001b[0m \u001b[32m━━━━━━━━━━━━━━━━━━━━\u001b[0m\u001b[37m\u001b[0m \u001b[1m0s\u001b[0m 1ms/step - loss: 0.3352 - mse: 0.3352 - val_loss: 0.3586 - val_mse: 0.3586\n",
      "Epoch 31/1000\n",
      "\u001b[1m38/38\u001b[0m \u001b[32m━━━━━━━━━━━━━━━━━━━━\u001b[0m\u001b[37m\u001b[0m \u001b[1m0s\u001b[0m 1ms/step - loss: 0.3711 - mse: 0.3711 - val_loss: 0.3358 - val_mse: 0.3358\n",
      "Epoch 32/1000\n",
      "\u001b[1m38/38\u001b[0m \u001b[32m━━━━━━━━━━━━━━━━━━━━\u001b[0m\u001b[37m\u001b[0m \u001b[1m0s\u001b[0m 1ms/step - loss: 0.3339 - mse: 0.3339 - val_loss: 0.4308 - val_mse: 0.4308\n",
      "Epoch 33/1000\n",
      "\u001b[1m38/38\u001b[0m \u001b[32m━━━━━━━━━━━━━━━━━━━━\u001b[0m\u001b[37m\u001b[0m \u001b[1m0s\u001b[0m 1ms/step - loss: 0.3892 - mse: 0.3892 - val_loss: 0.3685 - val_mse: 0.3685\n",
      "Epoch 34/1000\n",
      "\u001b[1m38/38\u001b[0m \u001b[32m━━━━━━━━━━━━━━━━━━━━\u001b[0m\u001b[37m\u001b[0m \u001b[1m0s\u001b[0m 1ms/step - loss: 0.3433 - mse: 0.3433 - val_loss: 0.3664 - val_mse: 0.3664\n",
      "Epoch 35/1000\n",
      "\u001b[1m38/38\u001b[0m \u001b[32m━━━━━━━━━━━━━━━━━━━━\u001b[0m\u001b[37m\u001b[0m \u001b[1m0s\u001b[0m 1ms/step - loss: 0.3738 - mse: 0.3738 - val_loss: 0.4050 - val_mse: 0.4050\n",
      "Epoch 36/1000\n",
      "\u001b[1m38/38\u001b[0m \u001b[32m━━━━━━━━━━━━━━━━━━━━\u001b[0m\u001b[37m\u001b[0m \u001b[1m0s\u001b[0m 1ms/step - loss: 0.3998 - mse: 0.3998 - val_loss: 0.3744 - val_mse: 0.3744\n",
      "Epoch 37/1000\n",
      "\u001b[1m38/38\u001b[0m \u001b[32m━━━━━━━━━━━━━━━━━━━━\u001b[0m\u001b[37m\u001b[0m \u001b[1m0s\u001b[0m 1ms/step - loss: 0.3371 - mse: 0.3371 - val_loss: 0.3668 - val_mse: 0.3668\n",
      "Epoch 38/1000\n",
      "\u001b[1m38/38\u001b[0m \u001b[32m━━━━━━━━━━━━━━━━━━━━\u001b[0m\u001b[37m\u001b[0m \u001b[1m0s\u001b[0m 1ms/step - loss: 0.3380 - mse: 0.3380 - val_loss: 0.3652 - val_mse: 0.3652\n",
      "Epoch 39/1000\n",
      "\u001b[1m38/38\u001b[0m \u001b[32m━━━━━━━━━━━━━━━━━━━━\u001b[0m\u001b[37m\u001b[0m \u001b[1m0s\u001b[0m 1ms/step - loss: 0.3277 - mse: 0.3277 - val_loss: 0.3659 - val_mse: 0.3659\n",
      "Epoch 40/1000\n",
      "\u001b[1m38/38\u001b[0m \u001b[32m━━━━━━━━━━━━━━━━━━━━\u001b[0m\u001b[37m\u001b[0m \u001b[1m0s\u001b[0m 1ms/step - loss: 0.3588 - mse: 0.3588 - val_loss: 0.3697 - val_mse: 0.3697\n",
      "Epoch 41/1000\n",
      "\u001b[1m38/38\u001b[0m \u001b[32m━━━━━━━━━━━━━━━━━━━━\u001b[0m\u001b[37m\u001b[0m \u001b[1m0s\u001b[0m 1ms/step - loss: 0.3573 - mse: 0.3573 - val_loss: 0.3585 - val_mse: 0.3585\n",
      "Epoch 42/1000\n",
      "\u001b[1m38/38\u001b[0m \u001b[32m━━━━━━━━━━━━━━━━━━━━\u001b[0m\u001b[37m\u001b[0m \u001b[1m0s\u001b[0m 1ms/step - loss: 0.3558 - mse: 0.3558 - val_loss: 0.3668 - val_mse: 0.3668\n",
      "Epoch 43/1000\n",
      "\u001b[1m38/38\u001b[0m \u001b[32m━━━━━━━━━━━━━━━━━━━━\u001b[0m\u001b[37m\u001b[0m \u001b[1m0s\u001b[0m 2ms/step - loss: 0.3517 - mse: 0.3517 - val_loss: 0.3596 - val_mse: 0.3596\n",
      "Epoch 44/1000\n",
      "\u001b[1m38/38\u001b[0m \u001b[32m━━━━━━━━━━━━━━━━━━━━\u001b[0m\u001b[37m\u001b[0m \u001b[1m0s\u001b[0m 1ms/step - loss: 0.3699 - mse: 0.3699 - val_loss: 0.3826 - val_mse: 0.3826\n",
      "Epoch 45/1000\n",
      "\u001b[1m38/38\u001b[0m \u001b[32m━━━━━━━━━━━━━━━━━━━━\u001b[0m\u001b[37m\u001b[0m \u001b[1m0s\u001b[0m 2ms/step - loss: 0.3835 - mse: 0.3835 - val_loss: 0.3580 - val_mse: 0.3580\n",
      "Epoch 46/1000\n",
      "\u001b[1m38/38\u001b[0m \u001b[32m━━━━━━━━━━━━━━━━━━━━\u001b[0m\u001b[37m\u001b[0m \u001b[1m0s\u001b[0m 1ms/step - loss: 0.3417 - mse: 0.3417 - val_loss: 0.3530 - val_mse: 0.3530\n",
      "Epoch 47/1000\n",
      "\u001b[1m38/38\u001b[0m \u001b[32m━━━━━━━━━━━━━━━━━━━━\u001b[0m\u001b[37m\u001b[0m \u001b[1m0s\u001b[0m 1ms/step - loss: 0.3280 - mse: 0.3280 - val_loss: 0.3666 - val_mse: 0.3666\n",
      "Epoch 48/1000\n",
      "\u001b[1m38/38\u001b[0m \u001b[32m━━━━━━━━━━━━━━━━━━━━\u001b[0m\u001b[37m\u001b[0m \u001b[1m0s\u001b[0m 1ms/step - loss: 0.3471 - mse: 0.3471 - val_loss: 0.3503 - val_mse: 0.3503\n",
      "Epoch 49/1000\n",
      "\u001b[1m38/38\u001b[0m \u001b[32m━━━━━━━━━━━━━━━━━━━━\u001b[0m\u001b[37m\u001b[0m \u001b[1m0s\u001b[0m 1ms/step - loss: 0.3171 - mse: 0.3171 - val_loss: 0.3425 - val_mse: 0.3425\n",
      "Epoch 50/1000\n",
      "\u001b[1m38/38\u001b[0m \u001b[32m━━━━━━━━━━━━━━━━━━━━\u001b[0m\u001b[37m\u001b[0m \u001b[1m0s\u001b[0m 1ms/step - loss: 0.3532 - mse: 0.3532 - val_loss: 0.3485 - val_mse: 0.3485\n",
      "Epoch 51/1000\n",
      "\u001b[1m38/38\u001b[0m \u001b[32m━━━━━━━━━━━━━━━━━━━━\u001b[0m\u001b[37m\u001b[0m \u001b[1m0s\u001b[0m 1ms/step - loss: 0.3591 - mse: 0.3591 - val_loss: 0.3562 - val_mse: 0.3562\n",
      "Epoch 52/1000\n",
      "\u001b[1m38/38\u001b[0m \u001b[32m━━━━━━━━━━━━━━━━━━━━\u001b[0m\u001b[37m\u001b[0m \u001b[1m0s\u001b[0m 1ms/step - loss: 0.3226 - mse: 0.3226 - val_loss: 0.3759 - val_mse: 0.3759\n",
      "Epoch 53/1000\n",
      "\u001b[1m38/38\u001b[0m \u001b[32m━━━━━━━━━━━━━━━━━━━━\u001b[0m\u001b[37m\u001b[0m \u001b[1m0s\u001b[0m 1ms/step - loss: 0.3448 - mse: 0.3448 - val_loss: 0.3538 - val_mse: 0.3538\n",
      "Epoch 54/1000\n",
      "\u001b[1m38/38\u001b[0m \u001b[32m━━━━━━━━━━━━━━━━━━━━\u001b[0m\u001b[37m\u001b[0m \u001b[1m0s\u001b[0m 1ms/step - loss: 0.3046 - mse: 0.3046 - val_loss: 0.3603 - val_mse: 0.3603\n",
      "Epoch 55/1000\n",
      "\u001b[1m38/38\u001b[0m \u001b[32m━━━━━━━━━━━━━━━━━━━━\u001b[0m\u001b[37m\u001b[0m \u001b[1m0s\u001b[0m 1ms/step - loss: 0.3557 - mse: 0.3557 - val_loss: 0.3675 - val_mse: 0.3675\n",
      "Epoch 56/1000\n",
      "\u001b[1m38/38\u001b[0m \u001b[32m━━━━━━━━━━━━━━━━━━━━\u001b[0m\u001b[37m\u001b[0m \u001b[1m0s\u001b[0m 1ms/step - loss: 0.3205 - mse: 0.3205 - val_loss: 0.3559 - val_mse: 0.3559\n",
      "Epoch 57/1000\n",
      "\u001b[1m38/38\u001b[0m \u001b[32m━━━━━━━━━━━━━━━━━━━━\u001b[0m\u001b[37m\u001b[0m \u001b[1m0s\u001b[0m 1ms/step - loss: 0.3058 - mse: 0.3058 - val_loss: 0.3542 - val_mse: 0.3542\n",
      "Epoch 58/1000\n",
      "\u001b[1m38/38\u001b[0m \u001b[32m━━━━━━━━━━━━━━━━━━━━\u001b[0m\u001b[37m\u001b[0m \u001b[1m0s\u001b[0m 1ms/step - loss: 0.3321 - mse: 0.3321 - val_loss: 0.3456 - val_mse: 0.3456\n",
      "Epoch 59/1000\n",
      "\u001b[1m38/38\u001b[0m \u001b[32m━━━━━━━━━━━━━━━━━━━━\u001b[0m\u001b[37m\u001b[0m \u001b[1m0s\u001b[0m 1ms/step - loss: 0.3188 - mse: 0.3188 - val_loss: 0.3552 - val_mse: 0.3552\n",
      "Epoch 60/1000\n",
      "\u001b[1m38/38\u001b[0m \u001b[32m━━━━━━━━━━━━━━━━━━━━\u001b[0m\u001b[37m\u001b[0m \u001b[1m0s\u001b[0m 1ms/step - loss: 0.3080 - mse: 0.3080 - val_loss: 0.3618 - val_mse: 0.3618\n",
      "Epoch 61/1000\n",
      "\u001b[1m38/38\u001b[0m \u001b[32m━━━━━━━━━━━━━━━━━━━━\u001b[0m\u001b[37m\u001b[0m \u001b[1m0s\u001b[0m 1ms/step - loss: 0.3303 - mse: 0.3303 - val_loss: 0.3788 - val_mse: 0.3788\n",
      "Epoch 62/1000\n",
      "\u001b[1m38/38\u001b[0m \u001b[32m━━━━━━━━━━━━━━━━━━━━\u001b[0m\u001b[37m\u001b[0m \u001b[1m0s\u001b[0m 1ms/step - loss: 0.2927 - mse: 0.2927 - val_loss: 0.3545 - val_mse: 0.3545\n",
      "Epoch 63/1000\n",
      "\u001b[1m38/38\u001b[0m \u001b[32m━━━━━━━━━━━━━━━━━━━━\u001b[0m\u001b[37m\u001b[0m \u001b[1m0s\u001b[0m 1ms/step - loss: 0.2762 - mse: 0.2762 - val_loss: 0.3674 - val_mse: 0.3674\n",
      "Epoch 64/1000\n",
      "\u001b[1m38/38\u001b[0m \u001b[32m━━━━━━━━━━━━━━━━━━━━\u001b[0m\u001b[37m\u001b[0m \u001b[1m0s\u001b[0m 1ms/step - loss: 0.2988 - mse: 0.2988 - val_loss: 0.3556 - val_mse: 0.3556\n",
      "Epoch 65/1000\n",
      "\u001b[1m38/38\u001b[0m \u001b[32m━━━━━━━━━━━━━━━━━━━━\u001b[0m\u001b[37m\u001b[0m \u001b[1m0s\u001b[0m 1ms/step - loss: 0.2960 - mse: 0.2960 - val_loss: 0.3671 - val_mse: 0.3671\n",
      "Epoch 66/1000\n",
      "\u001b[1m38/38\u001b[0m \u001b[32m━━━━━━━━━━━━━━━━━━━━\u001b[0m\u001b[37m\u001b[0m \u001b[1m0s\u001b[0m 1ms/step - loss: 0.2836 - mse: 0.2836 - val_loss: 0.3521 - val_mse: 0.3521\n",
      "Epoch 67/1000\n",
      "\u001b[1m38/38\u001b[0m \u001b[32m━━━━━━━━━━━━━━━━━━━━\u001b[0m\u001b[37m\u001b[0m \u001b[1m0s\u001b[0m 1ms/step - loss: 0.2897 - mse: 0.2897 - val_loss: 0.3648 - val_mse: 0.3648\n",
      "Epoch 68/1000\n",
      "\u001b[1m38/38\u001b[0m \u001b[32m━━━━━━━━━━━━━━━━━━━━\u001b[0m\u001b[37m\u001b[0m \u001b[1m0s\u001b[0m 1ms/step - loss: 0.2843 - mse: 0.2843 - val_loss: 0.3682 - val_mse: 0.3682\n",
      "Epoch 69/1000\n",
      "\u001b[1m38/38\u001b[0m \u001b[32m━━━━━━━━━━━━━━━━━━━━\u001b[0m\u001b[37m\u001b[0m \u001b[1m0s\u001b[0m 1ms/step - loss: 0.2819 - mse: 0.2819 - val_loss: 0.3636 - val_mse: 0.3636\n",
      "Epoch 70/1000\n",
      "\u001b[1m38/38\u001b[0m \u001b[32m━━━━━━━━━━━━━━━━━━━━\u001b[0m\u001b[37m\u001b[0m \u001b[1m0s\u001b[0m 1ms/step - loss: 0.2703 - mse: 0.2703 - val_loss: 0.3570 - val_mse: 0.3570\n",
      "Epoch 71/1000\n",
      "\u001b[1m38/38\u001b[0m \u001b[32m━━━━━━━━━━━━━━━━━━━━\u001b[0m\u001b[37m\u001b[0m \u001b[1m0s\u001b[0m 1ms/step - loss: 0.2889 - mse: 0.2889 - val_loss: 0.3559 - val_mse: 0.3559\n",
      "Epoch 72/1000\n",
      "\u001b[1m38/38\u001b[0m \u001b[32m━━━━━━━━━━━━━━━━━━━━\u001b[0m\u001b[37m\u001b[0m \u001b[1m0s\u001b[0m 1ms/step - loss: 0.2845 - mse: 0.2845 - val_loss: 0.3697 - val_mse: 0.3697\n",
      "Epoch 73/1000\n",
      "\u001b[1m38/38\u001b[0m \u001b[32m━━━━━━━━━━━━━━━━━━━━\u001b[0m\u001b[37m\u001b[0m \u001b[1m0s\u001b[0m 1ms/step - loss: 0.2554 - mse: 0.2554 - val_loss: 0.3797 - val_mse: 0.3797\n"
     ]
    },
    {
     "data": {
      "text/plain": [
       "<keras.src.callbacks.history.History at 0x15c1df3d0>"
      ]
     },
     "execution_count": 23,
     "metadata": {},
     "output_type": "execute_result"
    }
   ],
   "source": [
    "earlystopping_callback \\\n",
    "    = tf.keras.callbacks.EarlyStopping  \\\n",
    "        (monitor = 'val_mse', mode = 'min', patience = 42, restore_best_weights = True)\n",
    "\n",
    "neural_network_sequential_model \\\n",
    "    .fit \\\n",
    "        (x_train_scaled_nparray,\n",
    "         y_train_series.values,\n",
    "         epochs = 1000,\n",
    "         validation_data = (x_test_scaled_nparray, y_test_series.values),\n",
    "         callbacks = [earlystopping_callback])"
   ]
  },
  {
   "cell_type": "markdown",
   "metadata": {},
   "source": [
    "## **3.3: Evaluate Model**"
   ]
  },
  {
   "cell_type": "code",
   "execution_count": 24,
   "metadata": {},
   "outputs": [
    {
     "name": "stdout",
     "output_type": "stream",
     "text": [
      "13/13 - 0s - 2ms/step - loss: 0.3358 - mse: 0.3358\n",
      "\n",
      "Model Loss: 33.58%, Model MSE: 33.58%\n"
     ]
    }
   ],
   "source": [
    "model_loss_float, model_mse_float \\\n",
    "    = neural_network_sequential_model.evaluate(x_test_scaled_nparray, y_test_series.values, verbose = 2)\n",
    "\n",
    "logx.print_and_log_text \\\n",
    "    (f'\\nModel Loss: {round(model_loss_float * 100, 2)}%, '\n",
    "     + f'Model MSE: {round(model_mse_float * 100, 2)}%')"
   ]
  },
  {
   "cell_type": "markdown",
   "metadata": {},
   "source": [
    "## **3.4: Save and Export Model**"
   ]
  },
  {
   "cell_type": "code",
   "execution_count": 25,
   "metadata": {},
   "outputs": [],
   "source": [
    "neural_network_sequential_model.save(student_loans_constants.CONSTANT_NN_MODEL_FILE_PATH)"
   ]
  },
  {
   "cell_type": "markdown",
   "metadata": {},
   "source": [
    "# <br> **Section 4: Predict Loan Repayment Success**"
   ]
  },
  {
   "cell_type": "markdown",
   "metadata": {},
   "source": [
    "## **4.1: Reload Model**"
   ]
  },
  {
   "cell_type": "code",
   "execution_count": 26,
   "metadata": {},
   "outputs": [],
   "source": [
    "reloaded_neural_network_sequential_model \\\n",
    "    = tf.keras.models.load_model \\\n",
    "        (student_loans_constants.CONSTANT_NN_MODEL_FILE_PATH)"
   ]
  },
  {
   "cell_type": "markdown",
   "metadata": {},
   "source": [
    "## **4.2: Predictions**"
   ]
  },
  {
   "cell_type": "code",
   "execution_count": 27,
   "metadata": {},
   "outputs": [
    {
     "name": "stdout",
     "output_type": "stream",
     "text": [
      "\u001b[1m13/13\u001b[0m \u001b[32m━━━━━━━━━━━━━━━━━━━━\u001b[0m\u001b[37m\u001b[0m \u001b[1m0s\u001b[0m 2ms/step \n"
     ]
    }
   ],
   "source": [
    "predictions_nparray \\\n",
    "    = reloaded_neural_network_sequential_model.predict \\\n",
    "        (x_test_scaled_nparray).round().astype('int32')"
   ]
  },
  {
   "cell_type": "markdown",
   "metadata": {},
   "source": [
    "## **4.3: Compare Predictions and Actual Values**"
   ]
  },
  {
   "cell_type": "code",
   "execution_count": 28,
   "metadata": {},
   "outputs": [],
   "source": [
    "comparison_dataframe \\\n",
    "    = pd.DataFrame({'predictions': predictions_nparray.ravel(), 'actual': y_test_series.values})"
   ]
  },
  {
   "cell_type": "code",
   "execution_count": 29,
   "metadata": {},
   "outputs": [
    {
     "data": {
      "text/html": [
       "<style type=\"text/css\">\n",
       "#T_0a5fb caption {\n",
       "  color: black;\n",
       "  font-size: 20px;\n",
       "  font-style: bold;\n",
       "  text-align: center;\n",
       "}\n",
       "#T_0a5fb_row0_col0, #T_0a5fb_row0_col1, #T_0a5fb_row1_col0, #T_0a5fb_row1_col1, #T_0a5fb_row2_col0, #T_0a5fb_row2_col1, #T_0a5fb_row3_col0, #T_0a5fb_row3_col1, #T_0a5fb_row4_col0, #T_0a5fb_row4_col1, #T_0a5fb_row5_col0, #T_0a5fb_row5_col1, #T_0a5fb_row6_col0, #T_0a5fb_row6_col1, #T_0a5fb_row7_col0, #T_0a5fb_row7_col1, #T_0a5fb_row8_col0, #T_0a5fb_row8_col1, #T_0a5fb_row9_col0, #T_0a5fb_row9_col1 {\n",
       "  text-align: center;\n",
       "  border: 1.3px solid red;\n",
       "  color: blue;\n",
       "}\n",
       "</style>\n",
       "<table id=\"T_0a5fb\">\n",
       "  <caption>Table 4.3: Model Predictions vs. Actual Values</caption>\n",
       "  <thead>\n",
       "    <tr>\n",
       "      <th id=\"T_0a5fb_level0_col0\" class=\"col_heading level0 col0\" >predictions</th>\n",
       "      <th id=\"T_0a5fb_level0_col1\" class=\"col_heading level0 col1\" >actual</th>\n",
       "    </tr>\n",
       "  </thead>\n",
       "  <tbody>\n",
       "    <tr>\n",
       "      <td id=\"T_0a5fb_row0_col0\" class=\"data row0 col0\" >6</td>\n",
       "      <td id=\"T_0a5fb_row0_col1\" class=\"data row0 col1\" >6</td>\n",
       "    </tr>\n",
       "    <tr>\n",
       "      <td id=\"T_0a5fb_row1_col0\" class=\"data row1 col0\" >6</td>\n",
       "      <td id=\"T_0a5fb_row1_col1\" class=\"data row1 col1\" >6</td>\n",
       "    </tr>\n",
       "    <tr>\n",
       "      <td id=\"T_0a5fb_row2_col0\" class=\"data row2 col0\" >5</td>\n",
       "      <td id=\"T_0a5fb_row2_col1\" class=\"data row2 col1\" >5</td>\n",
       "    </tr>\n",
       "    <tr>\n",
       "      <td id=\"T_0a5fb_row3_col0\" class=\"data row3 col0\" >6</td>\n",
       "      <td id=\"T_0a5fb_row3_col1\" class=\"data row3 col1\" >6</td>\n",
       "    </tr>\n",
       "    <tr>\n",
       "      <td id=\"T_0a5fb_row4_col0\" class=\"data row4 col0\" >6</td>\n",
       "      <td id=\"T_0a5fb_row4_col1\" class=\"data row4 col1\" >6</td>\n",
       "    </tr>\n",
       "    <tr>\n",
       "      <td id=\"T_0a5fb_row5_col0\" class=\"data row5 col0\" >6</td>\n",
       "      <td id=\"T_0a5fb_row5_col1\" class=\"data row5 col1\" >7</td>\n",
       "    </tr>\n",
       "    <tr>\n",
       "      <td id=\"T_0a5fb_row6_col0\" class=\"data row6 col0\" >5</td>\n",
       "      <td id=\"T_0a5fb_row6_col1\" class=\"data row6 col1\" >4</td>\n",
       "    </tr>\n",
       "    <tr>\n",
       "      <td id=\"T_0a5fb_row7_col0\" class=\"data row7 col0\" >5</td>\n",
       "      <td id=\"T_0a5fb_row7_col1\" class=\"data row7 col1\" >5</td>\n",
       "    </tr>\n",
       "    <tr>\n",
       "      <td id=\"T_0a5fb_row8_col0\" class=\"data row8 col0\" >5</td>\n",
       "      <td id=\"T_0a5fb_row8_col1\" class=\"data row8 col1\" >5</td>\n",
       "    </tr>\n",
       "    <tr>\n",
       "      <td id=\"T_0a5fb_row9_col0\" class=\"data row9 col0\" >5</td>\n",
       "      <td id=\"T_0a5fb_row9_col1\" class=\"data row9 col1\" >5</td>\n",
       "    </tr>\n",
       "  </tbody>\n",
       "</table>\n"
      ],
      "text/plain": [
       "<pandas.io.formats.style.Styler at 0x15ca77090>"
      ]
     },
     "execution_count": 29,
     "metadata": {},
     "output_type": "execute_result"
    }
   ],
   "source": [
    "pandas_processx.return_formatted_table \\\n",
    "    (comparison_dataframe, 'Table 4.3: Model Predictions vs. Actual Values')"
   ]
  },
  {
   "cell_type": "code",
   "execution_count": 30,
   "metadata": {},
   "outputs": [],
   "source": [
    "# logx.end_program()"
   ]
  },
  {
   "cell_type": "code",
   "execution_count": null,
   "metadata": {},
   "outputs": [],
   "source": []
  }
 ],
 "metadata": {
  "kernelspec": {
   "display_name": "Python 3 (ipykernel)",
   "language": "python",
   "name": "python3"
  },
  "language_info": {
   "codemirror_mode": {
    "name": "ipython",
    "version": 3
   },
   "file_extension": ".py",
   "mimetype": "text/x-python",
   "name": "python",
   "nbconvert_exporter": "python",
   "pygments_lexer": "ipython3",
   "version": "3.11.7"
  }
 },
 "nbformat": 4,
 "nbformat_minor": 4
}
